{
 "cells": [
  {
   "cell_type": "markdown",
   "metadata": {},
   "source": [
    "## Load dataset"
   ]
  },
  {
   "cell_type": "code",
   "execution_count": 53,
   "metadata": {},
   "outputs": [
    {
     "data": {
      "application/vnd.jupyter.widget-view+json": {
       "model_id": "ab96978fd01841c4b22f32ff753212af",
       "version_major": 2,
       "version_minor": 0
      },
      "text/plain": [
       "Downloading readme:   0%|          | 0.00/14.0k [00:00<?, ?B/s]"
      ]
     },
     "metadata": {},
     "output_type": "display_data"
    },
    {
     "data": {
      "application/vnd.jupyter.widget-view+json": {
       "model_id": "2c4ee09bf6764e568ffc98422f50aca8",
       "version_major": 2,
       "version_minor": 0
      },
      "text/plain": [
       "Downloading data:   0%|          | 0.00/981k [00:00<?, ?B/s]"
      ]
     },
     "metadata": {},
     "output_type": "display_data"
    },
    {
     "data": {
      "application/vnd.jupyter.widget-view+json": {
       "model_id": "168d7089a27e4a118fc99e8154044a60",
       "version_major": 2,
       "version_minor": 0
      },
      "text/plain": [
       "Generating test split:   0%|          | 0/66336 [00:00<?, ? examples/s]"
      ]
     },
     "metadata": {},
     "output_type": "display_data"
    },
    {
     "data": {
      "application/vnd.jupyter.widget-view+json": {
       "model_id": "8c75ad5ff3174dadaa271ba2bf93af50",
       "version_major": 2,
       "version_minor": 0
      },
      "text/plain": [
       "Downloading data:   0%|          | 0.00/113M [00:00<?, ?B/s]"
      ]
     },
     "metadata": {},
     "output_type": "display_data"
    },
    {
     "data": {
      "application/vnd.jupyter.widget-view+json": {
       "model_id": "2fa777e15844484d915b89245022e360",
       "version_major": 2,
       "version_minor": 0
      },
      "text/plain": [
       "Generating corpus split:   0%|          | 0/171332 [00:00<?, ? examples/s]"
      ]
     },
     "metadata": {},
     "output_type": "display_data"
    },
    {
     "data": {
      "application/vnd.jupyter.widget-view+json": {
       "model_id": "b58721c405fb45e9a81d51673e51ddc3",
       "version_major": 2,
       "version_minor": 0
      },
      "text/plain": [
       "Downloading data:   0%|          | 0.00/4.46k [00:00<?, ?B/s]"
      ]
     },
     "metadata": {},
     "output_type": "display_data"
    },
    {
     "data": {
      "application/vnd.jupyter.widget-view+json": {
       "model_id": "8ebd5d92c4d74560ac43a6b10a94e469",
       "version_major": 2,
       "version_minor": 0
      },
      "text/plain": [
       "Generating queries split:   0%|          | 0/50 [00:00<?, ? examples/s]"
      ]
     },
     "metadata": {},
     "output_type": "display_data"
    }
   ],
   "source": [
    "from datasets import load_dataset\n",
    "\n",
    "qrels = load_dataset(\"BeIR/trec-covid-qrels\")\n",
    "corpus = load_dataset(\"BeIR/trec-covid\", \"corpus\")\n",
    "queries = load_dataset(\"BeIR/trec-covid\", \"queries\")"
   ]
  },
  {
   "cell_type": "markdown",
   "metadata": {},
   "source": [
    "## Examine the corpus"
   ]
  },
  {
   "cell_type": "code",
   "execution_count": 54,
   "metadata": {},
   "outputs": [
    {
     "name": "stdout",
     "output_type": "stream",
     "text": [
      "The document dataset structure is: DatasetDict({\n",
      "    corpus: Dataset({\n",
      "        features: ['_id', 'title', 'text'],\n",
      "        num_rows: 171332\n",
      "    })\n",
      "})\n",
      "The first few IDs are: ['ug7v899j', '02tnwd4m', 'ejv2xln0', '2b73a28n', '9785vg6d']\n",
      "Document 0 is: OBJECTIVE: This retrospective chart review describes the epidemiology and clinical features of 40 patients with culture-proven Mycoplasma pneumoniae infections at King Abdulaziz University Hospital, Jeddah, Saudi Arabia. METHODS: Patients with positive M. pneumoniae cultures from respiratory specimens from January 1997 through December 1998 were identified through the Microbiology records. Charts of patients were reviewed. RESULTS: 40 patients were identified, 33 (82.5%) of whom required admission. Most infections (92.5%) were community-acquired. The infection affected all age groups but was most common in infants (32.5%) and pre-school children (22.5%). It occurred year-round but was most common in the fall (35%) and spring (30%). More than three-quarters of patients (77.5%) had comorbidities. Twenty-four isolates (60%) were associated with pneumonia, 14 (35%) with upper respiratory tract infections, and 2 (5%) with bronchiolitis. Cough (82.5%), fever (75%), and malaise (58.8%) were the most common symptoms, and crepitations (60%), and wheezes (40%) were the most common signs. Most patients with pneumonia had crepitations (79.2%) but only 25% had bronchial breathing. Immunocompromised patients were more likely than non-immunocompromised patients to present with pneumonia (8/9 versus 16/31, P = 0.05). Of the 24 patients with pneumonia, 14 (58.3%) had uneventful recovery, 4 (16.7%) recovered following some complications, 3 (12.5%) died because of M pneumoniae infection, and 3 (12.5%) died due to underlying comorbidities. The 3 patients who died of M pneumoniae pneumonia had other comorbidities. CONCLUSION: our results were similar to published data except for the finding that infections were more common in infants and preschool children and that the mortality rate of pneumonia in patients with comorbidities was high.\n",
      "Document 1 is: Inflammatory diseases of the respiratory tract are commonly associated with elevated production of nitric oxide (NO•) and increased indices of NO• -dependent oxidative stress. Although NO• is known to have anti-microbial, anti-inflammatory and anti-oxidant properties, various lines of evidence support the contribution of NO• to lung injury in several disease models. On the basis of biochemical evidence, it is often presumed that such NO• -dependent oxidations are due to the formation of the oxidant peroxynitrite, although alternative mechanisms involving the phagocyte-derived heme proteins myeloperoxidase and eosinophil peroxidase might be operative during conditions of inflammation. Because of the overwhelming literature on NO• generation and activities in the respiratory tract, it would be beyond the scope of this commentary to review this area comprehensively. Instead, it focuses on recent evidence and concepts of the presumed contribution of NO• to inflammatory diseases of the lung.\n",
      "Document 2 is: Surfactant protein-D (SP-D) participates in the innate response to inhaled microorganisms and organic antigens, and contributes to immune and inflammatory regulation within the lung. SP-D is synthesized and secreted by alveolar and bronchiolar epithelial cells, but is also expressed by epithelial cells lining various exocrine ducts and the mucosa of the gastrointestinal and genitourinary tracts. SP-D, a collagenous calcium-dependent lectin (or collectin), binds to surface glycoconjugates expressed by a wide variety of microorganisms, and to oligosaccharides associated with the surface of various complex organic antigens. SP-D also specifically interacts with glycoconjugates and other molecules expressed on the surface of macrophages, neutrophils, and lymphocytes. In addition, SP-D binds to specific surfactant-associated lipids and can influence the organization of lipid mixtures containing phosphatidylinositol in vitro. Consistent with these diverse in vitro activities is the observation that SP-D-deficient transgenic mice show abnormal accumulations of surfactant lipids, and respond abnormally to challenge with respiratory viruses and bacterial lipopolysaccharides. The phenotype of macrophages isolated from the lungs of SP-D-deficient mice is altered, and there is circumstantial evidence that abnormal oxidant metabolism and/or increased metalloproteinase expression contributes to the development of emphysema. The expression of SP-D is increased in response to many forms of lung injury, and deficient accumulation of appropriately oligomerized SP-D might contribute to the pathogenesis of a variety of human lung diseases.\n",
      "Document 3 is: Endothelin-1 (ET-1) is a 21 amino acid peptide with diverse biological activity that has been implicated in numerous diseases. ET-1 is a potent mitogen regulator of smooth muscle tone, and inflammatory mediator that may play a key role in diseases of the airways, pulmonary circulation, and inflammatory lung diseases, both acute and chronic. This review will focus on the biology of ET-1 and its role in lung disease.\n",
      "Document 4 is: Respiratory syncytial virus (RSV) and pneumonia virus of mice (PVM) are viruses of the family Paramyxoviridae, subfamily pneumovirus, which cause clinically important respiratory infections in humans and rodents, respectively. The respiratory epithelial target cells respond to viral infection with specific alterations in gene expression, including production of chemoattractant cytokines, adhesion molecules, elements that are related to the apoptosis response, and others that remain incompletely understood. Here we review our current understanding of these mucosal responses and discuss several genomic approaches, including differential display reverse transcription-polymerase chain reaction (PCR) and gene array strategies, that will permit us to unravel the nature of these responses in a more complete and systematic manner.\n"
     ]
    }
   ],
   "source": [
    "print(f\"The document dataset structure is: {corpus}\")\n",
    "print(f\"The first few IDs are: {corpus['corpus']['_id'][0:5]}\")\n",
    "\n",
    "first_documents = corpus['corpus']['text'][0:5]\n",
    "for i, document in enumerate(first_documents):\n",
    "    print(f\"Document {i} is: {document}\")"
   ]
  },
  {
   "cell_type": "markdown",
   "metadata": {},
   "source": [
    "## Examine queries"
   ]
  },
  {
   "cell_type": "code",
   "execution_count": 55,
   "metadata": {},
   "outputs": [
    {
     "name": "stdout",
     "output_type": "stream",
     "text": [
      "The query dataset structure is: DatasetDict({\n",
      "    queries: Dataset({\n",
      "        features: ['_id', 'title', 'text'],\n",
      "        num_rows: 50\n",
      "    })\n",
      "})\n",
      "The first few IDs are: ['1', '2', '3', '4', '5']\n",
      "Query 0 is: what is the origin of COVID-19\n",
      "Query 1 is: how does the coronavirus respond to changes in the weather\n",
      "Query 2 is: will SARS-CoV2 infected people develop immunity? Is cross protection possible?\n",
      "Query 3 is: what causes death from Covid-19?\n",
      "Query 4 is: what drugs have been active against SARS-CoV or SARS-CoV-2 in animal studies?\n"
     ]
    }
   ],
   "source": [
    "print(f\"The query dataset structure is: {queries}\")\n",
    "print(f\"The first few IDs are: {queries['queries']['_id'][0:5]}\")\n",
    "\n",
    "first_queries = queries['queries']['text'][0:5]\n",
    "for i, query in enumerate(first_queries):\n",
    "    print(f\"Query {i} is: {query}\")"
   ]
  },
  {
   "cell_type": "markdown",
   "metadata": {},
   "source": [
    "## Examine reference judgements"
   ]
  },
  {
   "cell_type": "code",
   "execution_count": 57,
   "metadata": {},
   "outputs": [
    {
     "name": "stdout",
     "output_type": "stream",
     "text": [
      "The qrels dataset structure is: DatasetDict({\n",
      "    test: Dataset({\n",
      "        features: ['query-id', 'corpus-id', 'score'],\n",
      "        num_rows: 66336\n",
      "    })\n",
      "})\n",
      "The query-ids look like: [1, 1, 1, 1, 1]\n",
      "The corpus-ids look like: ['005b2j4b', '00fmeepz', 'g7dhmyyo', '0194oljo', '021q9884']\n",
      "The total number of queries is 66336. The number of unique queries is 50.\n"
     ]
    }
   ],
   "source": [
    "print(f\"The qrels dataset structure is: {qrels}\")\n",
    "print(f\"The query-ids look like: {qrels['test']['query-id'][0:5]}\")\n",
    "print(f\"The corpus-ids look like: {qrels['test']['corpus-id'][0:5]}\")\n",
    "print(f\"The total number of queries is {len(qrels['test']['query-id'])}. The number of unique queries is {len(set(qrels['test']['query-id']))}.\") # Use dedup trick of converting list to set"
   ]
  },
  {
   "cell_type": "markdown",
   "metadata": {},
   "source": [
    "## Create search database\n",
    "Elastic search installation is easy. You can follow the steps here: https://www.elastic.co/guide/en/elasticsearch/reference/7.17/brew.html. If you get Java errors you may need to cleanup your Java installation, but it is farily easy. Ask a language model for assistance. I needed to run: <br>\n",
    "`brew link --force --overwrite openjdk@11` <br>\n",
    "`brew reinstall openjdk@11` <br>\n",
    "`export JAVA_HOME=\"/opt/homebrew/opt/openjdk@11/libexec/openjdk.jdk/Contents/Home\" >> ~/.zshrc` <br>\n",
    "`export PATH=\"$JAVA_HOME/bin:$PATH\" >> ~/.zshrc` <br>\n",
    "`source ~/.zshrc` <br>\n",
    "\n",
    "Then you can simply use: <br>\n",
    "Start Elasticsearch: `brew services start elastic/tap/elasticsearch-full` <br>\n",
    "Check status: `brew services list` <br>\n",
    "Stop Elasticsearch: `brew services stop elastic/tap/elasticsearch-full` <br>\n",
    "To stop Elasticsearch: press Ctrl+C in the terminal where Elasticsearch is running. <br>\n",
    "Or... <br>\n",
    "Start manually: `/opt/homebrew/opt/elasticsearch-full/bin/elasticsearch` # add & at end to run in background <br>\n",
    "To stop it from runnning manually: `pkill -f elasticsearch` <br>\n",
    "To check if it is running: `curl http://localhost:9200` <br>"
   ]
  },
  {
   "cell_type": "code",
   "execution_count": 151,
   "metadata": {},
   "outputs": [
    {
     "name": "stderr",
     "output_type": "stream",
     "text": [
      "/var/folders/7z/xs72fgxd3ygc3g7r3497scm80000gn/T/ipykernel_33304/1677350282.py:8: ElasticsearchWarning: Elasticsearch built-in security features are not enabled. Without authentication, your cluster could be accessible to anyone. See https://www.elastic.co/guide/en/elasticsearch/reference/7.17/security-minimal-setup.html to enable security.\n",
      "  if es.ping():\n",
      "/var/folders/7z/xs72fgxd3ygc3g7r3497scm80000gn/T/ipykernel_33304/1677350282.py:37: ElasticsearchWarning: Elasticsearch built-in security features are not enabled. Without authentication, your cluster could be accessible to anyone. See https://www.elastic.co/guide/en/elasticsearch/reference/7.17/security-minimal-setup.html to enable security.\n",
      "  for index in es.indices.get_alias(index=\"*\"):\n",
      "/var/folders/7z/xs72fgxd3ygc3g7r3497scm80000gn/T/ipykernel_33304/1677350282.py:56: ElasticsearchWarning: Elasticsearch built-in security features are not enabled. Without authentication, your cluster could be accessible to anyone. See https://www.elastic.co/guide/en/elasticsearch/reference/7.17/security-minimal-setup.html to enable security.\n",
      "  es.indices.create(index=\"path_index\", mappings=mappings)\n"
     ]
    },
    {
     "name": "stdout",
     "output_type": "stream",
     "text": [
      "Connected to Elasticsearch\n",
      "Successfully indexed 100 documents\n",
      "There were [] errors\n"
     ]
    },
    {
     "name": "stderr",
     "output_type": "stream",
     "text": [
      "/var/folders/7z/xs72fgxd3ygc3g7r3497scm80000gn/T/ipykernel_33304/1677350282.py:30: ElasticsearchWarning: Elasticsearch built-in security features are not enabled. Without authentication, your cluster could be accessible to anyone. See https://www.elastic.co/guide/en/elasticsearch/reference/7.17/security-minimal-setup.html to enable security.\n",
      "  success, error = helpers.bulk(es_client, generate_index(documents, index_name))\n"
     ]
    }
   ],
   "source": [
    "from elasticsearch import Elasticsearch, helpers\n",
    "import random\n",
    "\n",
    "# Connect to your local Elasticsearch instance\n",
    "es = Elasticsearch([\"http://localhost:9200\"])\n",
    "\n",
    "# Check if the connection was successful\n",
    "if es.ping():\n",
    "    print(\"Connected to Elasticsearch\")\n",
    "else:\n",
    "    print(\"Could not connect to Elasticsearch\")\n",
    "\n",
    "def get_random_doc_indicies(document_list_length, range_size):\n",
    "    return random.sample(range(document_list_length), range_size)\n",
    "\n",
    "def get_document_subset(full_document_list, document_indicies):\n",
    "    return [full_document_list[index] for index in document_indicies]\n",
    "\n",
    "def generate_index(documents, index_name):\n",
    "    for doc in documents:\n",
    "        doc_id = doc.pop(\"_id\")\n",
    "        yield {\n",
    "            \"_index\": index_name,\n",
    "            \"_id\": doc_id,\n",
    "            \"_source\": doc\n",
    "        }\n",
    "\n",
    "def bulk_index_documents(es_client, documents, index_name):\n",
    "    try:\n",
    "        success, _ = helpers.bulk(es_client, generate_index(documents, index_name))\n",
    "        print(f\"Successfully indexed {success} documents\")\n",
    "    except Exception as e:\n",
    "        print(f\"Encountered error: {e}\")\n",
    "\n",
    "# Delete indicies to start fresh\n",
    "for index in es.indices.get_alias(index=\"*\"):\n",
    "    es.indices.delete(index=index)\n",
    "\n",
    "mappings = {\n",
    "    \"properties\": {\n",
    "        \"title\": {\n",
    "            \"type\": \"text\"\n",
    "        },\n",
    "        \"text\": {\n",
    "            \"type\": \"text\"\n",
    "        }\n",
    "    }\n",
    "}\n",
    "\n",
    "random.seed(11)\n",
    "index_size = 100 # start small\n",
    "document_list_length = len(corpus['corpus'])\n",
    "doc_indicies = get_random_doc_indicies(document_list_length, index_size)\n",
    "documents = get_document_subset(corpus['corpus'], doc_indicies)\n",
    "es.indices.create(index=\"path_index\", mappings=mappings)\n",
    "bulk_index_documents(es, documents, \"path_index\")"
   ]
  },
  {
   "cell_type": "markdown",
   "metadata": {},
   "source": [
    "# Run a test query\n",
    "We can now run a test query. Here, I just made up a simple query since this dataset contains information on COVID-19. Note that the Elasticsearch documnetation recommends creating a pretty-print function as the search results response is a hard-to-read JSON object. See quickstart for an example: https://github.com/elastic/elasticsearch-labs/blob/main/notebooks/search/00-quick-start.ipynb. Elasticsearch has numerous search times, but BM25 is the default so there are no additional fields required."
   ]
  },
  {
   "cell_type": "code",
   "execution_count": 156,
   "metadata": {},
   "outputs": [
    {
     "name": "stdout",
     "output_type": "stream",
     "text": [
      "\n",
      "ID: yybunc6z\n",
      " Title:An in-silico evaluation of different Saikosaponins for their potency against SARS-CoV-2 using NSP15 and fusion spike glycoprotein as targets\n",
      " Text: The Public Health Emergency of International Concern declared the widespread outbreak of SARS-CoV-2 as a global pandemic emergency, which has resulted in 1,773,086 confirmed cases including 111,652 human deaths, as on 13 April 2020, as reported to World Health Organization. As of now, there are no vaccines or antiviral drugs declared to be officially useful against the infection. Saikosaponin is a group of oleanane derivatives reported in Chinese medicinal plants and are described for their anti-viral, anti-tumor, anti-inflammatory, anticonvulsant, antinephritis and hepatoprotective activities. They have also been known to have anti-coronaviral property by interfering the early stage of viral replication including absorption and penetration of the virus. Thus, the present study was undertaken to screen and evaluate the potency of different Saikosaponins against different sets of SARS-CoV-2 binding protein via computational molecular docking simulations. Docking was carried out on a Glide module of Schrodinger Maestro 2018-1 MM Share Version on NSP15 (PDB ID: 6W01) and Prefusion 2019-nCoV spike glycoprotein (PDB ID: 6VSB) from SARS-CoV-2. From the binding energy and interaction studies, the Saikosaponins U and V showed the best affinity towards both the proteins suggesting them to be future research molecule as they mark the desire interaction with NSP15, which is responsible for replication of RNA and also with 2019-nCoV spike glycoprotein which manage the connection with ACE2. [Image: see text] Communicated by Ramaswamy H. Sarma\n",
      " score: 6.4505134\n",
      "------\n",
      "\n",
      "ID: z3xiyatz\n",
      " Title:Capsaicin and Its Analogues Impede Nocifensive Response of Caenorhabditis elegans to Noxious Heat\n",
      " Text: Capsaicin is the most abundant pungent molecule identified in red chili peppers, and it is widely used for food flavoring, in pepper spray for self-defense devices and recently in ointments for the relief of neuropathic pain. Capsaicin and several other related vanilloid compounds are secondary plant metabolites. Capsaicin is a selective agonist of the transient receptor potential channel, vanilloid subfamily member 1 (TRPV1). After exposition to vanilloid solution, Caenorhabditis elegans wild type (N2) and mutants were placed on petri dishes divided in quadrants for heat stimulation. Thermal avoidance index was used to phenotype each tested C. elegans experimental groups. The data revealed for the first-time that capsaicin can impede nocifensive response of C. elegans to noxious heat (32-35 °C) following a sustained exposition. The effect was reversed 6 h post capsaicin exposition. Additionally, we identified the capsaicin target, the C. elegans transient receptor potential channel OCR-2 and not OSM-9. Further experiments also undoubtedly revealed anti-nociceptive effect for capsaicin analogues, including olvanil, gingerol, shogaol and curcumin.\n",
      " score: 5.1354494\n",
      "------\n",
      "\n",
      "ID: b6jpyr0u\n",
      " Title:AAV Vectors Vaccines Against Infectious Diseases\n",
      " Text: Since their discovery as a tool for gene transfer, vectors derived from the adeno-associated virus (AAV) have been used for gene therapy applications and attracted scientist to this field for their exceptional properties of efficiency of in vivo gene transfer and the level and duration of transgene expression. For many years, AAVs have been considered as low immunogenic vectors due to their ability to induce long-term expression of non-self-proteins in contrast to what has been observed with other viral vectors, such as adenovirus, for which strong immune responses against the same transgene products were documented. The perceived low immunogenicity likely explains why the use of AAV vectors for vaccination was not seriously considered before the early 2000s. Indeed, while analyses conducted using a variety of transgenes and animal species slowly changed the vision of immunological properties of AAVs, an increasing number of studies were also performed in the field of vaccination. Even if the comparison with other modes of vaccination was not systemically performed, the analyses conducted so far in the field of active immunotherapy strongly suggest that AAVs possess some interesting features to be used as tools to produce an efficient and sustained antibody response. In addition, recent studies also highlighted the potential of AAVs for passive immunotherapy. This review summarizes the main studies conducted to evaluate the potential of AAV vectors for vaccination against infectious agents and discusses their advantages and drawbacks. Altogether, the variety of studies conducted in this field contributes to the understanding of the immunological properties of this versatile virus and to the definition of its possible future applications.\n",
      " score: 5.034793\n",
      "------\n",
      "\n",
      "ID: cr3yef46\n",
      " Title:Must I Respond if My Health is at Risk?\n",
      " Text: Abstract Background Widespread epidemics, pandemics, and other risk-prone disasters occur with disturbing regularity. When such events occur, how should, and will, clinicians respond? The moral backbone of medical professionals—a duty to put the needs of patients first—may be sorely tested. Discussion It is incumbent on health care professionals to ask what we must do and what we should do if a dangerous health care situation threatens both ourselves and our community. Despite numerous medical ethical codes, nothing—either morally or legally—requires a response to risk-prone situations from civilian clinicians; it remains a personal decision. The most important questions are: What will encourage us to respond to these situations? And will we respond? These questions are necessary, not only for physicians and other direct health care providers, but also for vital health care system support personnel. Those who provide care in the face of perceived risk demonstrate heroic bravery, but the choice to do so has varied throughout history. To improve individual response rates, disaster planners and managers must communicate the risks clearly to all members of the health care system and help mitigate their risks by providing them with as much support and security as possible. Conclusions The decision to remain in or to leave a risky health care situation will ultimately depend on the provider's own risk assessment and value system. If history is any guide, we can rest assured that most clinicians will choose to stay, following the heroic example established through the centuries and continuing today.\n",
      " score: 4.9802704\n",
      "------\n",
      "\n",
      "ID: qeiefm6d\n",
      " Title:Potential Output, EU Fiscal Surveillance and the COVID-19 Shock\n",
      " Text: This paper discusses how the technical foundations of the EU’s fiscal rules constrain the fiscal space in EU countries in the context of the COVID-19 pandemic. We review the evidence on how estimates of potential output, which are at the heart of essential control indicators in EU fiscal surveillance, were revised in the ten years running up to the COVID-19 pandemic, and how these revisions affected the fiscal stance of EU countries. We provide first evidence for downward revisions in the European Commission’s potential output estimates against the background of the COVID-19 shock across the EU27 countries, and we assess the potential consequences in terms of fiscal space. According to our results, one additional percentage point in predicted losses of actual output is associated with a loss in potential output of about 0.6 percentage points. Given the importance of model-based estimates in the EU’s fiscal rules, avoiding pro-cyclical fiscal tightening will require that policymakers’ hands are not tied by overly pessimistic views on the development of potential output.\n",
      " score: 4.915208\n",
      "------\n",
      "\n",
      "ID: n1aphggl\n",
      " Title:Identifying SARS-CoV-2 entry inhibitors through drug repurposing screens of SARS- S and MERS-S pseudotyped particles\n",
      " Text: While vaccine development will hopefully quell the global pandemic of COVID-19 caused by SARS-CoV-2, small molecule drugs that can effectively control SARS-CoV-2 infection are urgently needed. Here inhibitors of two coronavirus spike proteins (S) were identified by screening a library of approved drugs with SARS-S and MERS-S pseudotyped particle entry assays. Using high-throughput screening technology, we discovered three compounds (cepharanthine, abemaciclib and trimipramine) to be broad spectrum inhibitors for spike-mediated entry. This work should contribute to the development of effective treatments against the initial stage of viral infection, thus reducing viral burden in COVID-19 patients.\n",
      " score: 4.667051\n",
      "------\n",
      "\n",
      "ID: sfglqf1g\n",
      " Title:A picture of the covid-19 impact on IVIRMA fertility treatment clinics in Spain and Italy\n",
      " Text: Abstract The emergence of the novel coronavirus infection that arose in Wuhan, China in December 2019 has resulted in an epidemic that has quickly expanded to become one of the most significant public health threats in recent times. Unfortunately, the disease has spread globally. On March 11th (2020) World Health Organization (WHO) declared Covid-19 a pandemic and has called governments to take urgent and aggressive action to change the course of the outbreak. Within the context of Assisted Reproduction, both reproductive medicine professionals and patients are also fighting against this unprecedented viral pandemic. In view of events, most of us had to make serious decisions, some of them with a lack of scientific evidence due to the circumstances and with the only objective of ensuring the safe care of our patients, reduce non-essential contacts and prevent possible maternal and fetal complications in future pregnancies. Pregnant women should not be considered at high risk for developing severe infection. Up to date, there are no reported deaths in pregnant women with Covid-19, while in the cases that have presented pneumonia because of Covid-19, the symptoms have been moderate and with a good prognosis in recovery\n",
      " score: 4.323258\n",
      "------\n",
      "\n",
      "ID: u8d7zmkz\n",
      " Title:In silico Design of a Multivalent Vaccine Against Candida albicans\n",
      " Text: Invasive candidiasis (IC) is the most common nosocomial infection and a leading cause of mycoses-related deaths. High-systemic toxicity and emergence of antifungal-resistant species warrant the development of newer preventive approaches against IC. Here, we have adopted an immunotherapeutic peptide vaccine-based approach, to enhance the body’s immune response against invasive candida infections. Using computational tools, we screened the entire candida proteome (6030 proteins) and identified the most immunodominant HLA class I, HLA class II and B- cell epitopes. By further immunoinformatic analyses for enhanced vaccine efficacy, we selected the 18- most promising epitopes, which were joined together using molecular linkers to create a multivalent recombinant protein against Candida albicans (mvPC). To increase mvPC’s immunogenicity, we added a synthetic adjuvant (RS09) to the mvPC design. The selected mvPC epitopes are homologous against all currently available annotated reference sequences of 22 C. albicans strains, thus offering a higher coverage and greater protective response. A major advantage of the current vaccine approach is mvPC’s multivalent nature (recognizing multiple-epitopes), which is likely to provide enhanced protection against complex candida antigens. Here, we describe the computational analyses leading to mvPC design.\n",
      " score: 4.082471\n",
      "------\n",
      "\n",
      "ID: hep09rv3\n",
      " Title:Single particle assay of coronavirus membrane fusion with proteinaceous receptor-embedded supported bilayers\n",
      " Text: Abstract Total internal reflection microscopy combined with microfluidics and supported bilayers is a powerful, single particle tracking (SPT) platform for host-pathogen membrane fusion studies. But one major inadequacy of this platform has been capturing the complexity of the cell membrane, including membrane proteins. Because of this, viruses requiring proteinaceous receptors, or other unknown cellular co-factors, have been precluded from study. Here we describe a general method to integrate proteinaceous receptors and cellular components into supported bilayers for SPT fusion studies. This method is general to any enveloped virus-host cell pair, but demonstrated here for feline coronavirus (FCoV). Supported bilayers are formed from mammalian cell membrane vesicles that express feline aminopeptidase N (the viral receptor) using a cell blebbing technique. SPT is then used to identify fusion intermediates and measure membrane fusion kinetics for FCoV. Overall, the fusion results recapitulate what is observed in vivo, that coronavirus entry requires binding to specific receptors, a low-pH environment, and that membrane fusion is receptor- and protease-dependent. But this method also provides quantitative kinetic rate parameters for intermediate steps in the coronavirus fusion pathway, which to our knowledge have not been obtained before. Moreover, the platform offers versatile, precise control over the sequence of triggers for fusion; these triggers may define the fusion pathway, tissue tropism, and pathogenicity of coronaviruses. Systematically varying these triggers in this platform provides a new route to study how viruses rapidly adapt to other hosts, and to identify factors that led to the emergence of zoonotic viruses, such as human SARS-CoV and the newly emerging human MERS-CoV.\n",
      " score: 3.4340115\n",
      "------\n",
      "\n",
      "ID: vu6qf7z9\n",
      " Title:Efficacy and safety of Lian-Hua Qing-Wen granule for COVID-2019: A protocol for systematic review and meta-analysis\n",
      " Text: BACKGROUND: Coronavirus disease 2019 (COVID-19) is a global pandemic caused by the Severe Acute Respiratory Syndrome Coronavirus-2 (SARS-CoV-2). Since the outbreak, the disease has caused more than 60,502 deaths worldwide. Lian-Hua Qing-Wen Granule (LHQWG) is widely used in treating COVID-19 in China. However, there is no evidence that LHQWG is effective for COVID-19. METHODS AND ANALYSIS: A comprehensive literature search will be conducted. Two methodological trained researchers will read the title, abstract and full texts and independently select the qualified literature according to inclusion and exclusion criteria. After assessment of the risk of bias and data extraction, we will conduct meta-analyses for outcomes related to COVID-19. The heterogeneity of data will be investigated by Cochrane X and I tests. Publication bias assessment will be conducted by funnel plot analysis and Egger test. RESULTS: The results of our research will be published in a peer-reviewed journal. CONCLUSION: Our study aims to systematically present the clinical evidence of LHQWG in treating COVID-19, which will be of significant meaning for further research and clinical practice. OSF REGISTRATION NUMBER: 10.17605/OSF.IO/27SBU.\n",
      " score: 3.4206135\n",
      "------\n"
     ]
    },
    {
     "name": "stderr",
     "output_type": "stream",
     "text": [
      "/var/folders/7z/xs72fgxd3ygc3g7r3497scm80000gn/T/ipykernel_33304/263747922.py:26: ElasticsearchWarning: Elasticsearch built-in security features are not enabled. Without authentication, your cluster could be accessible to anyone. See https://www.elastic.co/guide/en/elasticsearch/reference/7.17/security-minimal-setup.html to enable security.\n",
      "  results = es.search(index=\"path_index\", query=query, size=num_search_results)\n"
     ]
    }
   ],
   "source": [
    "# The documentation recommends createing a pretty print function\n",
    "# See quickstart for an example: https://github.com/elastic/elasticsearch-labs/blob/main/notebooks/search/00-quick-start.ipynb\n",
    "def pretty_print(results):\n",
    "    if len(results[\"hits\"][\"hits\"]) == 0:\n",
    "        print(f\"Serach returned no results.\")\n",
    "    else:\n",
    "        for hit in results[\"hits\"][\"hits\"]:\n",
    "            id = hit[\"_id\"]\n",
    "            title = hit[\"_source\"][\"title\"]\n",
    "            text = hit[\"_source\"][\"text\"]\n",
    "            score = hit[\"_score\"]\n",
    "            pretty_output = f\"\\nID: {id}\\n Title:{title}\\n Text: {text}\\n score: {score}\"\n",
    "            print(pretty_output)\n",
    "            print(\"------\")\n",
    "\n",
    "query_text = \"What is the best defense against COVID?\"\n",
    "\n",
    "# No need to specify BM25 as that is the default for elastic search\n",
    "query = {\n",
    "    \"match\": {\n",
    "        \"text\": query_text\n",
    "    }\n",
    "}\n",
    "\n",
    "num_search_results = 10\n",
    "results = es.search(index=\"path_index\", query=query, size=num_search_results)\n",
    "pretty_print(results) # It works!"
   ]
  },
  {
   "cell_type": "markdown",
   "metadata": {},
   "source": [
    "# Basic integration with language model\n",
    "We can now test having a language model look at a document in the corpus, create a synthetic query based on that document, search for documents using that query, and then review the results."
   ]
  },
  {
   "cell_type": "code",
   "execution_count": 169,
   "metadata": {},
   "outputs": [
    {
     "name": "stdout",
     "output_type": "stream",
     "text": [
      "Document text is: BACKGROUND: Ultrasonography allows for non-invasive examination of the liver and spleen and can further our understanding of schistosomiasis morbidity. METHODOLOGY/PRINCIPAL FINDINGS: We followed 578 people in Southwest China for up to five years. Participants were tested for Schistosoma japonicum infection in stool and seven standard measures of the liver and spleen were obtained using ultrasound to evaluate the relationship between schistosomiasis infection and ultrasound-detectable pathology, and the impact of targeted treatment on morbidity. Parenchymal fibrosis, a network pattern of the liver unique to S. japonicum, was associated with infection at the time of ultrasound (OR 1.40, 95% CI: 1.03–1.90) and infection intensity (test for trend, p = 0.002), adjusting for age, sex and year, and more strongly associated with prior infection status and intensity (adjusted OR 1.84, 95% CI: 1.30–2.60; test for trend: p<0.001 respectively), despite prompt treatment of infections. While declines in parenchymal fibrosis over time were statistically significant, only 28% of individuals with severe parenchymal fibrosis (grades 2 or 3) at enrollment reversed to normal or grade 1 within five years. Other liver abnormalities were less consistently associated with S. japonicum infection. CONCLUSIONS/SIGNIFICANCE: Parenchymal fibrosis is an appropriate measure of S. japonicum morbidity and can document reductions in disease following control efforts. Other ultrasound measures may have limited epidemiological value in regions with similar infection levels. Because severe fibrosis may not reverse quickly following treatment, efforts to reduce exposure to S. japonicum should be considered in combination with treatment to prevent schistosomiasis morbidity.\n",
      "{'query': 'Impact of Schistosoma japonicum infection on liver and spleen as detected by ultrasound in a longitudinal study in Southwest China'}\n",
      "\n",
      "ID: kxxlf6ly\n",
      " Title:Seoul Virus Tropism and Pathology in Naturally Infected Feeder Rats\n",
      " Text: Seoul virus (SEOV) is a zoonotic orthohantavirus carried by black and brown rats, and can cause hemorrhagic fever with renal syndrome in humans. Human cases of SEOV virus infection have most recently been reported in the USA, United Kingdom, France and the Netherlands and were primarily associated with contact with pet rats and feeder rats. Infection of rats results in an asymptomatic but persistent infection. Little is known about the cell tropism of SEOV in its reservoir and most available data is based on experimental infection studies in which rats were inoculated via a route which does not recapitulate virus transmission in nature. Here we report the histopathological analysis of SEOV cell tropism in key target organs following natural infection of a cohort of feeder rats, comprising 19 adults and 11 juveniles. All adult rats in this study were positive for SEOV specific antibodies and viral RNA in their tissues. One juvenile rat was seropositive, but negative in the rRT-PCR. Of the 19 adult rats of which subsequently additional organs were tested, SEOV RNA was detected in all lungs, followed by kidney (79%) and liver (74%). Histopathologic changes associated with SEOV infection were primarily found in the liver, consistent with a pathological diagnosis of a mild hepatitis. In conclusion, natural SEOV infection results in mild inflammation of the liver in the absence of clinical disease.\n",
      " score: 13.027885\n",
      "------\n",
      "\n",
      "ID: roiquyvz\n",
      " Title:Clinical features of coronavirus disease 2019 (COVID-19) in a cohort of patients with disability due to spinal cord injury\n",
      " Text: Study design: Cohort study of patients with spinal cord injury (SCI) Objectives: To describe the clinical and analytical features of a Covid-19 infected cohort with SCI to contribute new knowledge for a more accurate diagnosis and to outline prevention measures. Setting: This study was conducted at the National Hospital for Paraplegics (Toledo, Spain). Methods: A cohort analysis of seven patients with SCI infected by Covid-19 was carried out. Diagnosis was confirmed with reverse transcriptase polymerase chain reaction (RT-PCR) of nasal exudate or sputum samples. Clinical, analytical and radiographic findings were registered. Results: RT-PCR detected COVID-19 infection in all patients, affecting males and people with a cervical level of injury more often (5 out 7). The average delay for diagnostic confirmation was 4 days (interquartile range, 1-10). Fever was the most frequent symptom (6 out of 7). The second most common symptom was asthenia (4 out of 7), followed by dyspnea, cough and expectoration (3 out of 7 for each symptom). The MEWS score for Covid-19 severity rating was classified as severe in 5 out of 7. All but one patient showed radiological alterations evident in chest X-Rays at the time of diagnosis. All patients recovered gradually. Conclusion: Our patients with SCI and Covid-19 infection exhibited fewer symptoms than the general population. Furthermore, they presented similar or greater clinical severity. The clinical evolution was not as pronounced as had been expected. This study recommends close supervision of the SCI population to detect early compatible signs and symptoms of Covid-19 infection.\n",
      " score: 8.743049\n",
      "------\n",
      "\n",
      "ID: 2k2x6jxm\n",
      " Title:Pathogen screening and prognostic factors in children with severe ARDS of pulmonary origin\n",
      " Text: BACKGROUND: Acute respiratory distress syndrome (ARDS) is one of the most lethal diseases encountered in the pediatric intensive care unit (PICU). The etiological pathogens and prognostic factors of severe ARDS of pulmonary origin in children with respiratory virus infections were prospectively investigated. METHODS: Enrolled children fulfilled the following criteria: (1) PICU admission; (2) age of 1 month to 16 years; (3) diagnosis of infectious pneumonia and respiratory virus infection; and (4) development of severe ARDS within 72 h after PICU admission. Pathogens were detected in the blood and tracheal lavage fluid using molecular techniques and a conventional culture system. The serum levels of inflammatory mediators on the day of PICU admission were examined. RESULTS: Fifty‐seven patients (32 boys; median age, 9 months) were enrolled. Multiple virus infections, co‐infection with bacteria/fungus, and bacteremia/fungemia were observed in 60%, 49%, and 32% of children, respectively. Adenovirus‐B, measles virus, and cytomegalovirus were detected predominantly in tracheal lavage fluid. There were no statistically significant differences between non‐survivors and survivors regarding the types of pathogen, incidence of multiple virus infection, gender, age, clinical features, and treatment. The serum levels of interferon (IFN)‐γ and the IFN‐γ/interleukin (IL)‐10 ratio were higher in non‐survivors. CONCLUSIONS: IFN‐γ upregulation as detected on the day of PICU admission was found to be one of the possible prognostic factors affecting a fatal outcome. These results suggest that modulation of inflammatory responses is critical for the clinical management of children with ARDS.\n",
      " score: 8.274881\n",
      "------\n",
      "\n",
      "ID: yykgpy0g\n",
      " Title:Origin and evolution of emerging Liao ning Virus (genus Seadornavirus, family Reoviridae)\n",
      " Text: BACKGROUND: Liao ning virus (LNV) is a member of the genus Seadornavirus, family Reoviridae and has been isolated from kinds of vectors in Asia and Australia. However, there are no systematic studies describe the molecular genetic evolution and migration of LNVs. With the development of bioinformatics, viral genetic data combining the information of virus isolation time and locations could be integrated to infer the virus evolution and spread in nature. METHODS: Here, a phylogenetic and phylogeographic analysis using Bayesian Markov chain Monte Carlo simulations was conducted on the LNVs isolated from a variety of vectors during 1990–2014 to identify the evolution and migration patterns of LNVs. RESULTS: The results demonstrated that the LNV could be divided into 3 genotypes, of which genotype 1 mainly composed of LNVs isolated from Australia during 1990 to 2014 and the original LNV strain (LNV-NE97–31) isolated from Liaoning province in northern China in 1997, genotype 2 comprised of the isolates all from Xinjiang province in western China and genotype 3 consisted the isolates from Qinghai and Shanxi province of central China. LNVs emerged about 272 years ago and gradually evolved into three lineages in the order genotype 1, genotype 2 and genotype 3. Following phylogeographic analysis, it shows genotype 1 LNVs transmitted from Australia (113°E-153°E,10°S-42°S) to Liaoning province (118°E-125°E,38°N-43°N) in Northeast Asian continent then further spread across the central part of China to western China (75°E-95°E,35°N-50°N). CONCLUSION: LNVs were initially isolated from Liaoning province of China in the Northeast Asia, however, the present study revealed that LNVs were first appeared in Australia in the South Pacific region and transmitted to mainland China then rapidly spread across China and evolved three different genotypes. The above results suggested that LNV had the characteristics of long-distance transmission and there were great genetic diversity existed in the LNV population. Notably, current information of 80 strains of LNVs are limited. It is of great importance to strengthen the surveillance of LNVs to explore its real origin in nature and monitoring of the LNVs’ population variation and maintain vigilance to avoid LNV breaking through the species barrier and further clarify its relationship to human and animal infection.\n",
      " score: 7.3701816\n",
      "------\n",
      "\n",
      "ID: uuy9unsx\n",
      " Title:An evaluation of the policy on community health organizations in China: Will the priority of new healthcare reform in China be a success?\n",
      " Text: Abstract Objectives The objective of this paper is to assess historical and recent health reform efforts in China. We provide a brief history of the Chinese healthcare system since 1949 as context for the current healthcare; examine the factors that led to recent efforts to reestablish community-based care in China; and identify the challenges associated with attaining a sustainable and quality community healthcare system. Methods Based on literature review and publicly available data in China, the paper will present a historical case study analysis of health policy change of CHOs in China and provide policy evaluation, and the paper provided policy suggestions. Results We find that the government's recent efforts to emphasize the significance of community healthcare services in China have started to change patterns of healthcare use, but many problems still inhibit the development of CHOs, including unsustainable governmental roles, issues of human resource inadequacy and laggard GP practice, poorly designed payment schemes, patient's trust crisis and continue to inhibit the development of community-based primary care. Conclusions Additional policy efforts to help CHOs’ development are needed. Recent government investments in public health and primary care alone are not sufficient and could not be sustainable. It will not until long-term self-sustaining mechanisms to relieve an omnipotent government are established, including competent community doctors (GP) system, supportive social insurance reimbursement, appropriate financial incentives to providers, better transparency and accountability, as well as a more regulated referral system, a legitimate, sustainable and quality community health system could be attained.\n",
      " score: 7.3174615\n",
      "------\n",
      "\n",
      "ID: wm7ozisn\n",
      " Title:Epidemiology\n",
      " Text: The common cold is the result of an upper respiratory tract infection causing an acute syndrome characterised by a combination of non-specific symptoms, including sore throat, cough, fever, rhinorrhoea, malaise, headache, and myalgia. Respiratory viruses, alone or in combination, are the most common cause. The course f illness can be complicated by bacterial agents, causing pharyngitis or sinusitis, but the are a rare cause of cold and flu-like illnesses (CFLIs). Our understanding of CFLI epidemiology has been enhanced by molecular detection methods, particularly polymerase chain reaction (PCR) testing. PCR has not only improved detection of previously known viruses, but within the last decade has resulted in the detection of many divergent novel respiratory virus species. Human rhinovirus (HRV) infections cause nearly all CFLIs and they can be responsible for asthma and chronic obstructive pulmonary disease exacerbations. HRVs are co-detected with other respiratory viruses in statistically significant patterns, with HRVs occurring in the lowest proportion of co-detections, compared to most other respiratory viruses. Some recently identified rhinoviruses may populate an entirely new putative HRV species; HRV C. Further work is required to confirm a causal role for these newly identified viruses in CFLIs. The burden of illness associated with CFLIs is poorly documented, but where data are available, the impact of CFLIs is considerable. Individual infections, although they do not commonly result in more severe respiratory tract illness, are associated with substantial direct and indirect resource use. The product of frequency and burden for CFLIs is likely to be greater in magnitude than for any other respiratory syndrome, but further work is required to document this. Our understanding of the viral causes of CLFIs, although incomplete, has improved in recent years. Documenting burden is also an important step in progress towards improved control and management of these illnesses.\n",
      " score: 7.251517\n",
      "------\n",
      "\n",
      "ID: rh5mlovn\n",
      " Title:Characterization of a feline infectious peritonitis virus isolate.\n",
      " Text: A virus isolated in cell culture from the spleen of a cat with feline infectious peritonitis was identified by physicochemical, morphological and antigenic criteria as a coronavirus. The feline infectious peritonitis virus was compared in vitro with canine coronavirus, a reported enteric pathogen of dogs. The feline isolate was characterized, by chloroform sensitivity and resistance to 5-iododeoxyuridine, respectively, as containing essential lipid and an RNA genome. Other traits of the isolate included resistance to acidic conditions, heat lability, and resistance to trypsin. Electron microscopy showed viral particles with a structure consistent with that of the prototype of the coronavirus group, infectious bronchitis virus. Indirect immunofluorescence with canine coronavirus monospecific antiserum showed the viral isolate to be antigenically related to canine coronavirus. Specific-pathogen-free cats inoculated by various routes with cell-culture-propagated virus had both clinical symptoms and lesions consistent with feline infectious peritonitis.\n",
      " score: 7.0638022\n",
      "------\n",
      "\n",
      "ID: wh0ac8s8\n",
      " Title:Evaluation of Elevated Liver Enzymes\n",
      " Text: Liver enzymes, including aminotransferases and alkaline phosphatase, are some of the most commonly ordered blood tests in a physician's practice. These enzymes have been valuable in screening for liver disease, as well as in diagnosing and monitoring patients with acute and chronic hepatobiliary disorders. Patients with predominantly aminotransferase elevations are thought to have acute or chronic hepatitis from a variety of causes. In patients with predominantly alkaline phosphatase elevations, imaging evaluation is undertaken upfront to exclude large bile duct disorders and infiltrative/mass lesions. A liver biopsy may be reserved for patients for whom these less invasive investigations are unfruitful.\n",
      " score: 6.6522284\n",
      "------\n",
      "\n",
      "ID: 6c86edkc\n",
      " Title:Aims, Study Design, and Enrollment Results From the Assessing Predictors of Infant Respiratory Syncytial Virus Effects and Severity Study\n",
      " Text: BACKGROUND: The majority of infants hospitalized with primary respiratory syncytial virus (RSV) infection have no obvious risk factors for severe disease. OBJECTIVE: The aim of this study (Assessing Predictors of Infant RSV Effects and Severity, AsPIRES) was to identify factors associated with severe disease in full-term healthy infants younger than 10 months with primary RSV infection. METHODS: RSV infected infants were enrolled from 3 cohorts during consecutive winters from August 2012 to April 2016 in Rochester, New York. A birth cohort was prospectively enrolled and followed through their first winter for development of RSV infection. An outpatient supplemental cohort was enrolled in the emergency department or pediatric offices, and a hospital cohort was enrolled on admission with RSV infection. RSV was diagnosed by reverse transcriptase-polymerase chain reaction. Demographic and clinical data were recorded and samples collected for assays: buccal swab (cytomegalovirus polymerase chain reaction, PCR), nasal swab (RSV qualitative PCR, complete viral gene sequence, 16S ribosomal ribonucleic acid [RNA] amplicon microbiota analysis), nasal wash (chemokine and cytokine assays), nasal brush (nasal respiratory epithelial cell gene expression using RNA sequencing [RNAseq]), and 2 to 3 ml of heparinized blood (flow cytometry, RNAseq analysis of purified cluster of differentiation [CD]4+, CD8+, B cells and natural killer cells, and RSV-specific antibody). Cord blood (RSV-specific antibody) was also collected for the birth cohort. Univariate and multivariate logistic regression will be used for analysis of data using a continuous Global Respiratory Severity Score (GRSS) as the outcome variable. Novel statistical methods will be developed for integration of the large complex datasets. RESULTS: A total of 453 infants were enrolled into the 3 cohorts; 226 in the birth cohort, 60 in the supplemental cohort, and 78 in the hospital cohort. A total of 126 birth cohort infants remained in the study and were evaluated for 150 respiratory illnesses. Of the 60 RSV positive infants in the supplemental cohort, 42 completed the study, whereas all 78 of the RSV positive hospital cohort infants completed the study. A GRSS was calculated for each RSV-infected infant and is being used to analyze each of the complex datasets by correlation with disease severity in univariate and multivariate methods. CONCLUSIONS: The AsPIRES study will provide insights into the complex pathogenesis of RSV infection in healthy full-term infants with primary RSV infection. The analysis will allow assessment of multiple factors potentially influencing the severity of RSV infection including the level of RSV specific antibodies, the innate immune response of nasal epithelial cells, the adaptive response by various lymphocyte subsets, the resident airway microbiota, and viral factors. Results of this study will inform disease interventions such as vaccines and antiviral therapies.\n",
      " score: 6.6244473\n",
      "------\n",
      "\n",
      "ID: xvosxgl6\n",
      " Title:Has India met this enemy before? From an eternal optimist’s perspective: SARS-CoV-2\n",
      " Text: OBJECTIVE: We are presently going through a historic and unprecedented crisis for humanity with SARS-CoV-2 causing immense damage to life and world economics. It has been 3 months, since we had the first cluster in China and we felt the need to look into certain regional patterns of transmission of the virus with respect to some distinctive living conditions, incidence of malaria, the genomics of different strains, and its impact on severity. MATERIAL AND METHODS: Data for 107 countries was compiled and correlation analysis was done between incidence of malaria and number of SARS-CoV-2 cases. Possibility of genetic similarity between SARS-CoV-2 and reported zoonotic RNA viruses found associated previously with some Plasmodium species was explored by utilizing NCBI database. RESULTS: We found a significant inverse correlation between SARS-CoV-2 disease burden and incidence of Malaria. Our analysis also showed that a 12 base pair region encoding a part of surface glycoprotein of SARS- CoV-2 aligned with the Plasmodium associated zoonotic viral genome. CONCLUSION: Our analysis suggests a significantly lower SARS-CoV-2 disease burden in Malaria endemic regions and an inverse correlation with incidence of Malaria. The possibility of a pre-existing immunological memory for SARS-CoV-2 in Indians is possible and needs to be explored further\n",
      " score: 6.566396\n",
      "------\n"
     ]
    },
    {
     "name": "stderr",
     "output_type": "stream",
     "text": [
      "/var/folders/7z/xs72fgxd3ygc3g7r3497scm80000gn/T/ipykernel_33304/1257932657.py:46: ElasticsearchWarning: Elasticsearch built-in security features are not enabled. Without authentication, your cluster could be accessible to anyone. See https://www.elastic.co/guide/en/elasticsearch/reference/7.17/security-minimal-setup.html to enable security.\n",
      "  results = es.search(index=\"path_index\", query=query, size=num_search_results)\n"
     ]
    }
   ],
   "source": [
    "import os\n",
    "import json\n",
    "from openai import OpenAI\n",
    "\n",
    "# Set your API key\n",
    "client = OpenAI(\n",
    "    # This is the default and can be omitted\n",
    "    api_key=os.environ.get(\"OPENAI_API_KEY\"),\n",
    ")\n",
    "\n",
    "index_size = 1\n",
    "document_list_length = len(corpus['corpus'])\n",
    "doc_index = get_random_doc_indicies(document_list_length, index_size)\n",
    "document = get_document_subset(corpus['corpus'], doc_index)\n",
    "document_text = document[0][\"text\"]\n",
    "print(f\"Document text is: {document_text}\")\n",
    "\n",
    "prompt = f\"\"\"\n",
    "Please generate a query for which the following text would be returned:\n",
    "{document_text}\n",
    "\n",
    "Return the associated query in a JSON:\n",
    "{{\n",
    "    \"query\": {{query}}\n",
    "}}\n",
    "\"\"\"\n",
    "\n",
    "response = client.chat.completions.create(\n",
    "    model=\"gpt-4-turbo\",\n",
    "    response_format={ \"type\": \"json_object\" },\n",
    "    messages=[\n",
    "        {\"role\": \"user\", \"content\": prompt}\n",
    "    ]\n",
    ")\n",
    "\n",
    "gpt_response = json.loads(response.choices[0].message.content)\n",
    "print(gpt_response)\n",
    "\n",
    "query = {\n",
    "    \"match\": {\n",
    "        \"text\": gpt_response[\"query\"]\n",
    "    }\n",
    "}\n",
    "\n",
    "num_search_results = 10\n",
    "results = es.search(index=\"path_index\", query=query, size=num_search_results)\n",
    "pretty_print(results) # It works!"
   ]
  },
  {
   "cell_type": "markdown",
   "metadata": {},
   "source": [
    "# Test with DistilBERT"
   ]
  },
  {
   "cell_type": "code",
   "execution_count": 176,
   "metadata": {},
   "outputs": [
    {
     "name": "stdout",
     "output_type": "stream",
     "text": [
      "['background', ':', 'ultra', '##son', '##ography', 'allows', 'for', 'non', '-', 'invasive', 'examination', 'of', 'the', 'liver', 'and', 'sp', '##leen', 'and', 'can', 'further', 'our', 'understanding', 'of', 'sc', '##his', '##tos', '##omi', '##asi', '##s', 'mor', '##bid', '##ity', '.', 'methodology', '/', 'principal', 'findings', ':', 'we', 'followed', '57', '##8', 'people', 'in', 'southwest', 'china', 'for', 'up', 'to', 'five', 'years', '.', 'participants', 'were', 'tested', 'for', 'sc', '##his', '##tos', '##oma', 'ja', '##pon', '##icum', 'infection', 'in', 'stool', 'and', 'seven', 'standard', 'measures', 'of', 'the', 'liver', 'and', 'sp', '##leen', 'were', 'obtained', 'using', 'ultrasound', 'to', 'evaluate', 'the', 'relationship', 'between', 'sc', '##his', '##tos', '##omi', '##asi', '##s', 'infection', 'and', 'ultrasound', '-', 'detect', '##able', 'pathology', ',', 'and', 'the', 'impact', 'of', 'targeted', 'treatment', 'on', 'mor', '##bid', '##ity', '.', 'par', '##en', '##chy', '##mal', 'fi', '##bro', '##sis', ',', 'a', 'network', 'pattern', 'of', 'the', 'liver', 'unique', 'to', 's', '.', 'ja', '##pon', '##icum', ',', 'was', 'associated', 'with', 'infection', 'at', 'the', 'time', 'of', 'ultrasound', '(', 'or', '1', '.', '40', ',', '95', '%', 'ci', ':', '1', '.', '03', '–', '1', '.', '90', ')', 'and', 'infection', 'intensity', '(', 'test', 'for', 'trend', ',', 'p', '=', '0', '.', '00', '##2', ')', ',', 'adjusting', 'for', 'age', ',', 'sex', 'and', 'year', ',', 'and', 'more', 'strongly', 'associated', 'with', 'prior', 'infection', 'status', 'and', 'intensity', '(', 'adjusted', 'or', '1', '.', '84', ',', '95', '%', 'ci', ':', '1', '.', '30', '–', '2', '.', '60', ';', 'test', 'for', 'trend', ':', 'p', '<', '0', '.', '001', 'respectively', ')', ',', 'despite', 'prompt', 'treatment', 'of', 'infections', '.', 'while', 'declines', 'in', 'par', '##en', '##chy', '##mal', 'fi', '##bro', '##sis', 'over', 'time', 'were', 'statistical', '##ly', 'significant', ',', 'only', '28', '%', 'of', 'individuals', 'with', 'severe', 'par', '##en', '##chy', '##mal', 'fi', '##bro', '##sis', '(', 'grades', '2', 'or', '3', ')', 'at', 'enrollment', 'reversed', 'to', 'normal', 'or', 'grade', '1', 'within', 'five', 'years', '.', 'other', 'liver', 'abnormalities', 'were', 'less', 'consistently', 'associated', 'with', 's', '.', 'ja', '##pon', '##icum', 'infection', '.', 'conclusions', '/', 'significance', ':', 'par', '##en', '##chy', '##mal', 'fi', '##bro', '##sis', 'is', 'an', 'appropriate', 'measure', 'of', 's', '.', 'ja', '##pon', '##icum', 'mor', '##bid', '##ity', 'and', 'can', 'document', 'reductions', 'in', 'disease', 'following', 'control', 'efforts', '.', 'other', 'ultrasound', 'measures', 'may', 'have', 'limited', 'ep', '##ide', '##mi', '##ological', 'value', 'in', 'regions', 'with', 'similar', 'infection', 'levels', '.', 'because', 'severe', 'fi', '##bro', '##sis', 'may', 'not', 'reverse', 'quickly', 'following', 'treatment', ',', 'efforts', 'to', 'reduce', 'exposure', 'to', 's', '.', 'ja', '##pon', '##icum', 'should', 'be', 'considered', 'in', 'combination', 'with', 'treatment', 'to', 'prevent', 'sc', '##his', '##tos', '##omi', '##asi', '##s', 'mor', '##bid', '##ity', '.']\n",
      "['background', ':', 'ultra', '##son', '##ography', 'allows', 'for', 'non', '-', 'invasive', 'examination', 'of', 'the', 'liver', 'and', 'sp', '##leen', 'and', 'can', 'further', 'our', 'understanding', 'of', 'sc', '##his', '##tos', '##omi', '##asi', '##s', 'mor', '##bid', '##ity', '.', 'methodology', '/', 'principal', 'findings', ':', 'we', 'followed', '57', '##8', 'people', 'in', 'southwest', 'china', 'for', 'up', 'to', 'five', 'years', '.', 'participants', 'were', 'tested', 'for', 'sc', '##his', '##tos', '##oma', 'ja', '##pon', '##icum', 'infection', 'in', 'stool', 'and', 'seven', 'standard', 'measures', 'of', 'the', 'liver', 'and', 'sp', '##leen', 'were', 'obtained', 'using', 'ultrasound', 'to', 'evaluate', 'the', 'relationship', 'between', 'sc', '##his', '##tos', '##omi', '##asi', '##s', 'infection', 'and', 'ultrasound', '-', 'detect', '##able', 'pathology', ',', 'and', 'the', 'impact', 'of', 'targeted', 'treatment', 'on', 'mor', '##bid', '##ity', '.', 'par', '##en', '##chy', '##mal', 'fi', '##bro', '##sis', ',', 'a', 'network', 'pattern', 'of', 'the', 'liver', 'unique', 'to', 's', '.', 'ja', '##pon', '##icum', ',', 'was', 'associated', 'with', 'infection', 'at', 'the', 'time', 'of', 'ultrasound', '(', 'or', '1', '.', '40', ',', '95', '%', 'ci', ':', '1', '.', '03', '–', '1', '.', '90', ')', 'and', 'infection', 'intensity', '(', 'test', 'for', 'trend', ',', 'p', '=', '0', '.', '00', '##2', ')', ',', 'adjusting', 'for', 'age', ',', 'sex', 'and', 'year', ',', 'and', 'more', 'strongly', 'associated', 'with', 'prior', 'infection', 'status', 'and', 'intensity', '(', 'adjusted', 'or', '1', '.', '84', ',', '95', '%', 'ci', ':', '1', '.', '30', '–', '2', '.', '60', ';', 'test', 'for', 'trend', ':', 'p', '<', '0', '.', '001', 'respectively', ')', ',', 'despite', 'prompt', 'treatment', 'of', 'infections', '.', 'while', 'declines', 'in', 'par', '##en', '##chy', '##mal', 'fi', '##bro', '##sis', 'over', 'time', 'were', 'statistical', '##ly', 'significant', ',', 'only', '28', '%', 'of', 'individuals', 'with', 'severe', 'par', '##en', '##chy', '##mal', 'fi', '##bro', '##sis', '(', 'grades', '2', 'or', '3', ')', 'at', 'enrollment', 'reversed', 'to', 'normal', 'or', 'grade', '1', 'within', 'five', 'years', '.', 'other', 'liver', 'abnormalities', 'were', 'less', 'consistently', 'associated', 'with', 's', '.', 'ja', '##pon', '##icum', 'infection', '.', 'conclusions', '/', 'significance', ':', 'par', '##en', '##chy', '##mal', 'fi', '##bro', '##sis', 'is', 'an', 'appropriate', 'measure', 'of', 's', '.', 'ja', '##pon', '##icum', 'mor', '##bid', '##ity', 'and', 'can', 'document', 'reductions', 'in', 'disease', 'following', 'control', 'efforts', '.', 'other', 'ultrasound', 'measures', 'may', 'have', 'limited', 'ep', '##ide', '##mi', '##ological', 'value', 'in', 'regions', 'with', 'similar', 'infection', 'levels', '.', 'because', 'severe', 'fi', '##bro', '##sis', 'may', 'not', 'reverse', 'quickly', 'following', 'treatment', ',', 'efforts', 'to', 'reduce', 'exposure', 'to', 's', '.', 'ja', '##pon', '##icum', 'should', 'be', 'considered', 'in', 'combination', 'with', 'treatment', 'to', 'prevent', 'sc', '##his', '##tos', '##omi', '##asi', '##s', 'mor', '##bid', '##ity', '.']\n",
      "All document tokens in vocabulary\n"
     ]
    }
   ],
   "source": [
    "import torch\n",
    "from transformers import DistilBertTokenizer, DistilBertModel\n",
    "from torch import nn\n",
    "\n",
    "tokenizer = DistilBertTokenizer.from_pretrained('distilbert-base-uncased')\n",
    "\n",
    "# Examine tokenization on sample document\n",
    "print(tokenizer.tokenize(document_text)) # Use document text from previous step\n",
    "\n",
    "# Simple check for any unknown tokens\n",
    "tokens = tokenizer.tokenize(document_text)\n",
    "ids = tokenizer.convert_tokens_to_ids(tokens)\n",
    "reconstructed  = tokenizer.convert_ids_to_tokens(ids)\n",
    "print(reconstructed)\n",
    "\n",
    "unknown_token_count = reconstructed.count(\"UNK\")\n",
    "if unknown_token_count  == 0:\n",
    "    print(\"All document tokens in vocabulary\")\n",
    "else:\n",
    "    print(f\"{unknown_token_count} unknown tokens in document\")\n"
   ]
  },
  {
   "cell_type": "code",
   "execution_count": 199,
   "metadata": {},
   "outputs": [],
   "source": [
    "class DistilBERTReranker(nn.Module):\n",
    "    def __init__(self):\n",
    "        super(DistilBERTReranker, self).__init__()\n",
    "        self.distilbert = DistilBertModel.from_pretrained('distilbert-base-uncased')\n",
    "        self.classifer = nn.Linear(self.distilbert.config.hidden_size, 1)\n",
    "\n",
    "    def forward(self, input_ids, attention_mask):\n",
    "        outputs = self.distilbert(input_ids = input_ids, attention_mask=attention_mask)\n",
    "        pooled_output = outputs[0][:, 0]\n",
    "        return self.classifer(pooled_output)\n",
    "\n",
    "def prepare_input(query, document):\n",
    "    return tokenizer.encode_plus(\n",
    "        query,\n",
    "        document,\n",
    "        add_special_tokens = True,\n",
    "        max_length = 512,\n",
    "        truncation = True,\n",
    "        padding = 'max_length',\n",
    "        return_tensors = 'pt'\n",
    "    )\n",
    "\n",
    "# Test class methods\n",
    "query_text = \"What is the best defense against COVID?\" # Same as before\n",
    "prepared_input = prepare_input(query_text, document_text)\n",
    "input_ids, attention_mask = prepared_input['input_ids'], prepared_input['attention_mask']\n",
    "\n",
    "reranker = DistilBERTReranker()\n",
    "reranking_score = reranker.forward(input_ids, attention_mask)\n",
    "reranking_score.item()\n"
   ]
  },
  {
   "cell_type": "markdown",
   "metadata": {},
   "source": [
    "# Test reranking results"
   ]
  },
  {
   "cell_type": "code",
   "execution_count": 217,
   "metadata": {},
   "outputs": [
    {
     "name": "stderr",
     "output_type": "stream",
     "text": [
      "/var/folders/7z/xs72fgxd3ygc3g7r3497scm80000gn/T/ipykernel_33304/2959754318.py:1: ElasticsearchWarning: Elasticsearch built-in security features are not enabled. Without authentication, your cluster could be accessible to anyone. See https://www.elastic.co/guide/en/elasticsearch/reference/7.17/security-minimal-setup.html to enable security.\n",
      "  results = es.search(index=\"path_index\", query=query, size=num_search_results)\n",
      "Be aware, overflowing tokens are not returned for the setting you have chosen, i.e. sequence pairs with the 'longest_first' truncation strategy. So the returned list will always be empty even if some tokens have been removed.\n",
      "Be aware, overflowing tokens are not returned for the setting you have chosen, i.e. sequence pairs with the 'longest_first' truncation strategy. So the returned list will always be empty even if some tokens have been removed.\n"
     ]
    },
    {
     "name": "stdout",
     "output_type": "stream",
     "text": [
      "{1: {'score': tensor([[-0.1967]]), 'document_text': 'Seoul virus (SEOV) is a zoonotic orthohantavirus carried by black and brown rats, and can cause hemorrhagic fever with renal syndrome in humans. Human cases of SEOV virus infection have most recently been reported in the USA, United Kingdom, France and the Netherlands and were primarily associated with contact with pet rats and feeder rats. Infection of rats results in an asymptomatic but persistent infection. Little is known about the cell tropism of SEOV in its reservoir and most available data is based on experimental infection studies in which rats were inoculated via a route which does not recapitulate virus transmission in nature. Here we report the histopathological analysis of SEOV cell tropism in key target organs following natural infection of a cohort of feeder rats, comprising 19 adults and 11 juveniles. All adult rats in this study were positive for SEOV specific antibodies and viral RNA in their tissues. One juvenile rat was seropositive, but negative in the rRT-PCR. Of the 19 adult rats of which subsequently additional organs were tested, SEOV RNA was detected in all lungs, followed by kidney (79%) and liver (74%). Histopathologic changes associated with SEOV infection were primarily found in the liver, consistent with a pathological diagnosis of a mild hepatitis. In conclusion, natural SEOV infection results in mild inflammation of the liver in the absence of clinical disease.'}, 2: {'score': tensor([[-0.1074]]), 'document_text': 'Study design: Cohort study of patients with spinal cord injury (SCI) Objectives: To describe the clinical and analytical features of a Covid-19 infected cohort with SCI to contribute new knowledge for a more accurate diagnosis and to outline prevention measures. Setting: This study was conducted at the National Hospital for Paraplegics (Toledo, Spain). Methods: A cohort analysis of seven patients with SCI infected by Covid-19 was carried out. Diagnosis was confirmed with reverse transcriptase polymerase chain reaction (RT-PCR) of nasal exudate or sputum samples. Clinical, analytical and radiographic findings were registered. Results: RT-PCR detected COVID-19 infection in all patients, affecting males and people with a cervical level of injury more often (5 out 7). The average delay for diagnostic confirmation was 4 days (interquartile range, 1-10). Fever was the most frequent symptom (6 out of 7). The second most common symptom was asthenia (4 out of 7), followed by dyspnea, cough and expectoration (3 out of 7 for each symptom). The MEWS score for Covid-19 severity rating was classified as severe in 5 out of 7. All but one patient showed radiological alterations evident in chest X-Rays at the time of diagnosis. All patients recovered gradually. Conclusion: Our patients with SCI and Covid-19 infection exhibited fewer symptoms than the general population. Furthermore, they presented similar or greater clinical severity. The clinical evolution was not as pronounced as had been expected. This study recommends close supervision of the SCI population to detect early compatible signs and symptoms of Covid-19 infection.'}, 3: {'score': tensor([[0.0422]]), 'document_text': 'BACKGROUND: Acute respiratory distress syndrome (ARDS) is one of the most lethal diseases encountered in the pediatric intensive care unit (PICU). The etiological pathogens and prognostic factors of severe ARDS of pulmonary origin in children with respiratory virus infections were prospectively investigated. METHODS: Enrolled children fulfilled the following criteria: (1) PICU admission; (2) age of 1 month to 16 years; (3) diagnosis of infectious pneumonia and respiratory virus infection; and (4) development of severe ARDS within 72 h after PICU admission. Pathogens were detected in the blood and tracheal lavage fluid using molecular techniques and a conventional culture system. The serum levels of inflammatory mediators on the day of PICU admission were examined. RESULTS: Fifty‐seven patients (32 boys; median age, 9 months) were enrolled. Multiple virus infections, co‐infection with bacteria/fungus, and bacteremia/fungemia were observed in 60%, 49%, and 32% of children, respectively. Adenovirus‐B, measles virus, and cytomegalovirus were detected predominantly in tracheal lavage fluid. There were no statistically significant differences between non‐survivors and survivors regarding the types of pathogen, incidence of multiple virus infection, gender, age, clinical features, and treatment. The serum levels of interferon (IFN)‐γ and the IFN‐γ/interleukin (IL)‐10 ratio were higher in non‐survivors. CONCLUSIONS: IFN‐γ upregulation as detected on the day of PICU admission was found to be one of the possible prognostic factors affecting a fatal outcome. These results suggest that modulation of inflammatory responses is critical for the clinical management of children with ARDS.'}, 4: {'score': tensor([[-0.0013]]), 'document_text': 'BACKGROUND: Liao ning virus (LNV) is a member of the genus Seadornavirus, family Reoviridae and has been isolated from kinds of vectors in Asia and Australia. However, there are no systematic studies describe the molecular genetic evolution and migration of LNVs. With the development of bioinformatics, viral genetic data combining the information of virus isolation time and locations could be integrated to infer the virus evolution and spread in nature. METHODS: Here, a phylogenetic and phylogeographic analysis using Bayesian Markov chain Monte Carlo simulations was conducted on the LNVs isolated from a variety of vectors during 1990–2014 to identify the evolution and migration patterns of LNVs. RESULTS: The results demonstrated that the LNV could be divided into 3 genotypes, of which genotype 1 mainly composed of LNVs isolated from Australia during 1990 to 2014 and the original LNV strain (LNV-NE97–31) isolated from Liaoning province in northern China in 1997, genotype 2 comprised of the isolates all from Xinjiang province in western China and genotype 3 consisted the isolates from Qinghai and Shanxi province of central China. LNVs emerged about 272 years ago and gradually evolved into three lineages in the order genotype 1, genotype 2 and genotype 3. Following phylogeographic analysis, it shows genotype 1 LNVs transmitted from Australia (113°E-153°E,10°S-42°S) to Liaoning province (118°E-125°E,38°N-43°N) in Northeast Asian continent then further spread across the central part of China to western China (75°E-95°E,35°N-50°N). CONCLUSION: LNVs were initially isolated from Liaoning province of China in the Northeast Asia, however, the present study revealed that LNVs were first appeared in Australia in the South Pacific region and transmitted to mainland China then rapidly spread across China and evolved three different genotypes. The above results suggested that LNV had the characteristics of long-distance transmission and there were great genetic diversity existed in the LNV population. Notably, current information of 80 strains of LNVs are limited. It is of great importance to strengthen the surveillance of LNVs to explore its real origin in nature and monitoring of the LNVs’ population variation and maintain vigilance to avoid LNV breaking through the species barrier and further clarify its relationship to human and animal infection.'}, 5: {'score': tensor([[-0.0531]]), 'document_text': \"Abstract Objectives The objective of this paper is to assess historical and recent health reform efforts in China. We provide a brief history of the Chinese healthcare system since 1949 as context for the current healthcare; examine the factors that led to recent efforts to reestablish community-based care in China; and identify the challenges associated with attaining a sustainable and quality community healthcare system. Methods Based on literature review and publicly available data in China, the paper will present a historical case study analysis of health policy change of CHOs in China and provide policy evaluation, and the paper provided policy suggestions. Results We find that the government's recent efforts to emphasize the significance of community healthcare services in China have started to change patterns of healthcare use, but many problems still inhibit the development of CHOs, including unsustainable governmental roles, issues of human resource inadequacy and laggard GP practice, poorly designed payment schemes, patient's trust crisis and continue to inhibit the development of community-based primary care. Conclusions Additional policy efforts to help CHOs’ development are needed. Recent government investments in public health and primary care alone are not sufficient and could not be sustainable. It will not until long-term self-sustaining mechanisms to relieve an omnipotent government are established, including competent community doctors (GP) system, supportive social insurance reimbursement, appropriate financial incentives to providers, better transparency and accountability, as well as a more regulated referral system, a legitimate, sustainable and quality community health system could be attained.\"}, 6: {'score': tensor([[-0.0781]]), 'document_text': 'The common cold is the result of an upper respiratory tract infection causing an acute syndrome characterised by a combination of non-specific symptoms, including sore throat, cough, fever, rhinorrhoea, malaise, headache, and myalgia. Respiratory viruses, alone or in combination, are the most common cause. The course f illness can be complicated by bacterial agents, causing pharyngitis or sinusitis, but the are a rare cause of cold and flu-like illnesses (CFLIs). Our understanding of CFLI epidemiology has been enhanced by molecular detection methods, particularly polymerase chain reaction (PCR) testing. PCR has not only improved detection of previously known viruses, but within the last decade has resulted in the detection of many divergent novel respiratory virus species. Human rhinovirus (HRV) infections cause nearly all CFLIs and they can be responsible for asthma and chronic obstructive pulmonary disease exacerbations. HRVs are co-detected with other respiratory viruses in statistically significant patterns, with HRVs occurring in the lowest proportion of co-detections, compared to most other respiratory viruses. Some recently identified rhinoviruses may populate an entirely new putative HRV species; HRV C. Further work is required to confirm a causal role for these newly identified viruses in CFLIs. The burden of illness associated with CFLIs is poorly documented, but where data are available, the impact of CFLIs is considerable. Individual infections, although they do not commonly result in more severe respiratory tract illness, are associated with substantial direct and indirect resource use. The product of frequency and burden for CFLIs is likely to be greater in magnitude than for any other respiratory syndrome, but further work is required to document this. Our understanding of the viral causes of CLFIs, although incomplete, has improved in recent years. Documenting burden is also an important step in progress towards improved control and management of these illnesses.'}, 7: {'score': tensor([[-0.0913]]), 'document_text': 'A virus isolated in cell culture from the spleen of a cat with feline infectious peritonitis was identified by physicochemical, morphological and antigenic criteria as a coronavirus. The feline infectious peritonitis virus was compared in vitro with canine coronavirus, a reported enteric pathogen of dogs. The feline isolate was characterized, by chloroform sensitivity and resistance to 5-iododeoxyuridine, respectively, as containing essential lipid and an RNA genome. Other traits of the isolate included resistance to acidic conditions, heat lability, and resistance to trypsin. Electron microscopy showed viral particles with a structure consistent with that of the prototype of the coronavirus group, infectious bronchitis virus. Indirect immunofluorescence with canine coronavirus monospecific antiserum showed the viral isolate to be antigenically related to canine coronavirus. Specific-pathogen-free cats inoculated by various routes with cell-culture-propagated virus had both clinical symptoms and lesions consistent with feline infectious peritonitis.'}, 8: {'score': tensor([[-0.0621]]), 'document_text': \"Liver enzymes, including aminotransferases and alkaline phosphatase, are some of the most commonly ordered blood tests in a physician's practice. These enzymes have been valuable in screening for liver disease, as well as in diagnosing and monitoring patients with acute and chronic hepatobiliary disorders. Patients with predominantly aminotransferase elevations are thought to have acute or chronic hepatitis from a variety of causes. In patients with predominantly alkaline phosphatase elevations, imaging evaluation is undertaken upfront to exclude large bile duct disorders and infiltrative/mass lesions. A liver biopsy may be reserved for patients for whom these less invasive investigations are unfruitful.\"}, 9: {'score': tensor([[5.4233e-05]]), 'document_text': 'BACKGROUND: The majority of infants hospitalized with primary respiratory syncytial virus (RSV) infection have no obvious risk factors for severe disease. OBJECTIVE: The aim of this study (Assessing Predictors of Infant RSV Effects and Severity, AsPIRES) was to identify factors associated with severe disease in full-term healthy infants younger than 10 months with primary RSV infection. METHODS: RSV infected infants were enrolled from 3 cohorts during consecutive winters from August 2012 to April 2016 in Rochester, New York. A birth cohort was prospectively enrolled and followed through their first winter for development of RSV infection. An outpatient supplemental cohort was enrolled in the emergency department or pediatric offices, and a hospital cohort was enrolled on admission with RSV infection. RSV was diagnosed by reverse transcriptase-polymerase chain reaction. Demographic and clinical data were recorded and samples collected for assays: buccal swab (cytomegalovirus polymerase chain reaction, PCR), nasal swab (RSV qualitative PCR, complete viral gene sequence, 16S ribosomal ribonucleic acid [RNA] amplicon microbiota analysis), nasal wash (chemokine and cytokine assays), nasal brush (nasal respiratory epithelial cell gene expression using RNA sequencing [RNAseq]), and 2 to 3 ml of heparinized blood (flow cytometry, RNAseq analysis of purified cluster of differentiation [CD]4+, CD8+, B cells and natural killer cells, and RSV-specific antibody). Cord blood (RSV-specific antibody) was also collected for the birth cohort. Univariate and multivariate logistic regression will be used for analysis of data using a continuous Global Respiratory Severity Score (GRSS) as the outcome variable. Novel statistical methods will be developed for integration of the large complex datasets. RESULTS: A total of 453 infants were enrolled into the 3 cohorts; 226 in the birth cohort, 60 in the supplemental cohort, and 78 in the hospital cohort. A total of 126 birth cohort infants remained in the study and were evaluated for 150 respiratory illnesses. Of the 60 RSV positive infants in the supplemental cohort, 42 completed the study, whereas all 78 of the RSV positive hospital cohort infants completed the study. A GRSS was calculated for each RSV-infected infant and is being used to analyze each of the complex datasets by correlation with disease severity in univariate and multivariate methods. CONCLUSIONS: The AsPIRES study will provide insights into the complex pathogenesis of RSV infection in healthy full-term infants with primary RSV infection. The analysis will allow assessment of multiple factors potentially influencing the severity of RSV infection including the level of RSV specific antibodies, the innate immune response of nasal epithelial cells, the adaptive response by various lymphocyte subsets, the resident airway microbiota, and viral factors. Results of this study will inform disease interventions such as vaccines and antiviral therapies.'}, 10: {'score': tensor([[-0.0941]]), 'document_text': 'OBJECTIVE: We are presently going through a historic and unprecedented crisis for humanity with SARS-CoV-2 causing immense damage to life and world economics. It has been 3 months, since we had the first cluster in China and we felt the need to look into certain regional patterns of transmission of the virus with respect to some distinctive living conditions, incidence of malaria, the genomics of different strains, and its impact on severity. MATERIAL AND METHODS: Data for 107 countries was compiled and correlation analysis was done between incidence of malaria and number of SARS-CoV-2 cases. Possibility of genetic similarity between SARS-CoV-2 and reported zoonotic RNA viruses found associated previously with some Plasmodium species was explored by utilizing NCBI database. RESULTS: We found a significant inverse correlation between SARS-CoV-2 disease burden and incidence of Malaria. Our analysis also showed that a 12 base pair region encoding a part of surface glycoprotein of SARS- CoV-2 aligned with the Plasmodium associated zoonotic viral genome. CONCLUSION: Our analysis suggests a significantly lower SARS-CoV-2 disease burden in Malaria endemic regions and an inverse correlation with incidence of Malaria. The possibility of a pre-existing immunological memory for SARS-CoV-2 in Indians is possible and needs to be explored further'}}\n"
     ]
    }
   ],
   "source": [
    "results = es.search(index=\"path_index\", query=query, size=num_search_results)\n",
    "\n",
    "unranked_results = {}\n",
    "\n",
    "for i, hit in enumerate(results[\"hits\"][\"hits\"], start=1):\n",
    "    document_text = hit[\"_source\"][\"text\"]\n",
    "    with torch.no_grad():\n",
    "        prepared_input = prepare_input(query_text, document_text)\n",
    "        input_ids, attention_mask = prepared_input['input_ids'], prepared_input['attention_mask']\n",
    "        reranking_score = reranker.forward(input_ids, attention_mask)\n",
    "        unranked_results[i] = {\"score\": reranking_score, \"document_text\": document_text}\n",
    "\n",
    "print(unranked_results)\n",
    "reranked_results = sorted(unranked_results.items(), key=lambda item: item[1][\"score\"].item(), reverse = True)"
   ]
  },
  {
   "cell_type": "markdown",
   "metadata": {},
   "source": [
    "# Test constructing hard negatives"
   ]
  },
  {
   "cell_type": "code",
   "execution_count": 227,
   "metadata": {},
   "outputs": [
    {
     "name": "stdout",
     "output_type": "stream",
     "text": [
      "Document text is: OBJECTIVE: We are presently going through a historic and unprecedented crisis for humanity with SARS-CoV-2 causing immense damage to life and world economics. It has been 3 months, since we had the first cluster in China and we felt the need to look into certain regional patterns of transmission of the virus with respect to some distinctive living conditions, incidence of malaria, the genomics of different strains, and its impact on severity. MATERIAL AND METHODS: Data for 107 countries was compiled and correlation analysis was done between incidence of malaria and number of SARS-CoV-2 cases. Possibility of genetic similarity between SARS-CoV-2 and reported zoonotic RNA viruses found associated previously with some Plasmodium species was explored by utilizing NCBI database. RESULTS: We found a significant inverse correlation between SARS-CoV-2 disease burden and incidence of Malaria. Our analysis also showed that a 12 base pair region encoding a part of surface glycoprotein of SARS- CoV-2 aligned with the Plasmodium associated zoonotic viral genome. CONCLUSION: Our analysis suggests a significantly lower SARS-CoV-2 disease burden in Malaria endemic regions and an inverse correlation with incidence of Malaria. The possibility of a pre-existing immunological memory for SARS-CoV-2 in Indians is possible and needs to be explored further\n",
      "GPT-4o reponse is: {'query': 'What are the findings of a study exploring the correlation between malaria incidence and SARS-CoV-2 cases, and the potential genetic similarities between SARS-CoV-2 and zoonotic RNA viruses related to Plasmodium species?'}\n"
     ]
    },
    {
     "name": "stderr",
     "output_type": "stream",
     "text": [
      "/var/folders/7z/xs72fgxd3ygc3g7r3497scm80000gn/T/ipykernel_33304/2861574244.py:54: ElasticsearchWarning: Elasticsearch built-in security features are not enabled. Without authentication, your cluster could be accessible to anyone. See https://www.elastic.co/guide/en/elasticsearch/reference/7.17/security-minimal-setup.html to enable security.\n",
      "  results = es.search(index=\"path_index\", query=query, size=num_search_results)\n"
     ]
    },
    {
     "data": {
      "text/plain": [
       "{'query': 'What are the findings of a study exploring the correlation between malaria incidence and SARS-CoV-2 cases, and the potential genetic similarities between SARS-CoV-2 and zoonotic RNA viruses related to Plasmodium species?',\n",
       " 'positive_document': 'OBJECTIVE: We are presently going through a historic and unprecedented crisis for humanity with SARS-CoV-2 causing immense damage to life and world economics. It has been 3 months, since we had the first cluster in China and we felt the need to look into certain regional patterns of transmission of the virus with respect to some distinctive living conditions, incidence of malaria, the genomics of different strains, and its impact on severity. MATERIAL AND METHODS: Data for 107 countries was compiled and correlation analysis was done between incidence of malaria and number of SARS-CoV-2 cases. Possibility of genetic similarity between SARS-CoV-2 and reported zoonotic RNA viruses found associated previously with some Plasmodium species was explored by utilizing NCBI database. RESULTS: We found a significant inverse correlation between SARS-CoV-2 disease burden and incidence of Malaria. Our analysis also showed that a 12 base pair region encoding a part of surface glycoprotein of SARS- CoV-2 aligned with the Plasmodium associated zoonotic viral genome. CONCLUSION: Our analysis suggests a significantly lower SARS-CoV-2 disease burden in Malaria endemic regions and an inverse correlation with incidence of Malaria. The possibility of a pre-existing immunological memory for SARS-CoV-2 in Indians is possible and needs to be explored further',\n",
       " 'hard_negative_1': 'The spike (S) protein of SARS coronavirus (SARS-CoV) has been known to recognize and bind to host receptors, whose conformational changes then facilitates fusion between the viral envelope and host cell membrane, leading to viral entry into target cells. However, other functions of SARS-CoV S protein such as proteolytic cleavage and its implications to viral infection are incompletely understood. In this study, we demonstrated that the infection of SARS-CoV and a pseudovirus bearing the S protein of SARS-CoV was inhibited by a protease inhibitor Ben-HCl. Also, the protease Factor Xa, a target of Ben-HCl abundantly expressed in infected cells, was able to cleave the recombinant and pseudoviral S protein into S1 and S2 subunits, and the cleavage was inhibited by Ben-HCl. Furthermore, this cleavage correlated with the infectivity of the pseudovirus. Taken together, our study suggests a plausible mechanism by which SARS-CoV cleaves its S protein to facilitate viral infection.',\n",
       " 'hard_negative_2': 'Abstract Total internal reflection microscopy combined with microfluidics and supported bilayers is a powerful, single particle tracking (SPT) platform for host-pathogen membrane fusion studies. But one major inadequacy of this platform has been capturing the complexity of the cell membrane, including membrane proteins. Because of this, viruses requiring proteinaceous receptors, or other unknown cellular co-factors, have been precluded from study. Here we describe a general method to integrate proteinaceous receptors and cellular components into supported bilayers for SPT fusion studies. This method is general to any enveloped virus-host cell pair, but demonstrated here for feline coronavirus (FCoV). Supported bilayers are formed from mammalian cell membrane vesicles that express feline aminopeptidase N (the viral receptor) using a cell blebbing technique. SPT is then used to identify fusion intermediates and measure membrane fusion kinetics for FCoV. Overall, the fusion results recapitulate what is observed in vivo, that coronavirus entry requires binding to specific receptors, a low-pH environment, and that membrane fusion is receptor- and protease-dependent. But this method also provides quantitative kinetic rate parameters for intermediate steps in the coronavirus fusion pathway, which to our knowledge have not been obtained before. Moreover, the platform offers versatile, precise control over the sequence of triggers for fusion; these triggers may define the fusion pathway, tissue tropism, and pathogenicity of coronaviruses. Systematically varying these triggers in this platform provides a new route to study how viruses rapidly adapt to other hosts, and to identify factors that led to the emergence of zoonotic viruses, such as human SARS-CoV and the newly emerging human MERS-CoV.',\n",
       " 'hard_negative_3': 'While vaccine development will hopefully quell the global pandemic of COVID-19 caused by SARS-CoV-2, small molecule drugs that can effectively control SARS-CoV-2 infection are urgently needed. Here inhibitors of two coronavirus spike proteins (S) were identified by screening a library of approved drugs with SARS-S and MERS-S pseudotyped particle entry assays. Using high-throughput screening technology, we discovered three compounds (cepharanthine, abemaciclib and trimipramine) to be broad spectrum inhibitors for spike-mediated entry. This work should contribute to the development of effective treatments against the initial stage of viral infection, thus reducing viral burden in COVID-19 patients.'}"
      ]
     },
     "execution_count": 227,
     "metadata": {},
     "output_type": "execute_result"
    }
   ],
   "source": [
    "import os\n",
    "import json\n",
    "from openai import OpenAI\n",
    "\n",
    "# Set your API key\n",
    "client = OpenAI(\n",
    "    # This is the default and can be omitted\n",
    "    api_key=os.environ.get(\"OPENAI_API_KEY\"),\n",
    ")\n",
    "\n",
    "index_size = 1\n",
    "document_list_length = len(corpus['corpus'])\n",
    "doc_index = get_random_doc_indicies(document_list_length, index_size)\n",
    "positive_document = get_document_subset(corpus['corpus'], doc_index)\n",
    "positive_document_text = positive_document[0][\"text\"]\n",
    "positive_document_id = positive_document[0][\"_id\"]\n",
    "print(f\"Document text is: {document_text}\")\n",
    "\n",
    "prompt = f\"\"\"\n",
    "Please generate a query for which the following text would be returned:\n",
    "{document_text}\n",
    "\n",
    "Return the associated query in a JSON:\n",
    "{{\n",
    "    \"query\": {{query}}\n",
    "}}\n",
    "\n",
    "Your response:\n",
    "\n",
    "{{\"query\": }}\n",
    "\"\"\"\n",
    "\n",
    "response = client.chat.completions.create(\n",
    "    model=\"gpt-4-turbo\",\n",
    "    response_format={ \"type\": \"json_object\"},\n",
    "    messages=[\n",
    "        {\"role\": \"user\", \"content\": prompt}\n",
    "    ]\n",
    ")\n",
    "\n",
    "gpt_response = json.loads(response.choices[0].message.content)\n",
    "print(f\"GPT-4o reponse is: {gpt_response}\")\n",
    "query_text = gpt_response[\"query\"]\n",
    "\n",
    "query = {\n",
    "    \"match\": {\n",
    "        \"text\": query_text\n",
    "    }\n",
    "}\n",
    "\n",
    "num_search_results = 20\n",
    "hard_negative_start = 5\n",
    "num_hard_negatives = 3\n",
    "results = es.search(index=\"path_index\", query=query, size=num_search_results)\n",
    "\n",
    "tuple = {\"query\": query_text, \"positive_document\": document_text}\n",
    "for i, hit in enumerate(results[\"hits\"][\"hits\"][hard_negative_start:(hard_negative_start + num_hard_negatives)], start=1):\n",
    "    if hit[\"_id\"] == positive_document_id:\n",
    "        continue\n",
    "    else:\n",
    "        tuple[f\"hard_negative_{i}\"] = hit[\"_source\"][\"text\"]\n",
    "\n",
    "tuple"
   ]
  }
 ],
 "metadata": {
  "kernelspec": {
   "display_name": "venv",
   "language": "python",
   "name": "python3"
  },
  "language_info": {
   "codemirror_mode": {
    "name": "ipython",
    "version": 3
   },
   "file_extension": ".py",
   "mimetype": "text/x-python",
   "name": "python",
   "nbconvert_exporter": "python",
   "pygments_lexer": "ipython3",
   "version": "3.11.0"
  }
 },
 "nbformat": 4,
 "nbformat_minor": 2
}
