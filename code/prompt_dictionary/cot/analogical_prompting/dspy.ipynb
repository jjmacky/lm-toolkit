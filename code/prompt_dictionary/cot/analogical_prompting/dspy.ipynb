{
 "cells": [
  {
   "cell_type": "code",
   "execution_count": 3,
   "metadata": {},
   "outputs": [],
   "source": [
    "from datasets import load_dataset\n",
    "\n",
    "math_dataset = load_dataset(\"hendrycks/competition_math\")\n",
    "math_dataset_train = math_dataset[\"train\"]\n",
    "math_dataset_test = math_dataset[\"test\"]"
   ]
  },
  {
   "cell_type": "code",
   "execution_count": 55,
   "metadata": {},
   "outputs": [
    {
     "name": "stderr",
     "output_type": "stream",
     "text": [
      "  0%|          | 0/1 [00:00<?, ?it/s]"
     ]
    },
    {
     "name": "stdout",
     "output_type": "stream",
     "text": [
      "WARNING: Not all input fields were provided to module. Present: []. Missing: ['problem'].\n"
     ]
    },
    {
     "name": "stderr",
     "output_type": "stream",
     "text": [
      "ERROR:dspy.teleprompt.bootstrap:\u001b[2m2024-07-09T01:12:22.673642Z\u001b[0m [\u001b[31m\u001b[1merror    \u001b[0m] \u001b[1mFailed to run or to evaluate example Example({}) (input_keys={'problem'}) with <function simple_accuracy at 0x1407f82c0> due to simple_accuracy() takes 2 positional arguments but 3 were given.\u001b[0m [\u001b[0m\u001b[1m\u001b[34mdspy.teleprompt.bootstrap\u001b[0m]\u001b[0m \u001b[36mfilename\u001b[0m=\u001b[35mbootstrap.py\u001b[0m \u001b[36mlineno\u001b[0m=\u001b[35m211\u001b[0m\n",
      "100%|██████████| 1/1 [00:02<00:00,  2.33s/it]"
     ]
    },
    {
     "name": "stdout",
     "output_type": "stream",
     "text": [
      "Bootstrapped 0 full traces after 1 examples in round 0.\n"
     ]
    },
    {
     "name": "stderr",
     "output_type": "stream",
     "text": [
      "\n"
     ]
    }
   ],
   "source": [
    "import dspy\n",
    "from dspy import Example\n",
    "from openai import OpenAI\n",
    "from dspy.teleprompt import BootstrapFewShot\n",
    "import re\n",
    "import os\n",
    "\n",
    "client = OpenAI()\n",
    "\n",
    "def find_closing_boxed(text):\n",
    "    matches = re.finditer(r'\\\\boxed\\{', text) # Find all answers\n",
    "    start_index = [match.end() for match in matches][-1] # Get the last \\boxed{ answer\n",
    "    substring = text[start_index:]\n",
    "    brace_count = 1\n",
    "\n",
    "    for end_index, char in enumerate(substring, start = start_index):\n",
    "        if char == '{':\n",
    "            brace_count += 1\n",
    "        elif char == '}':\n",
    "            brace_count -= 1\n",
    "        else:\n",
    "            continue\n",
    "\n",
    "        if brace_count == 0:\n",
    "            return [start_index, end_index]\n",
    "        \n",
    "    # Return None if no matching brace is found (though this should not happen in well-formed strings)\n",
    "    return [start_index, -1]\n",
    "\n",
    "def extract_final_answer(math_solution):\n",
    "    start_index, end_index = find_closing_boxed(math_solution)\n",
    "    return math_solution[start_index:end_index].strip()\n",
    "\n",
    "def simple_accuracy(model_solution, official_solution):\n",
    "    return model_solution == official_solution\n",
    "\n",
    "\n",
    "\n",
    "\n",
    "# model_final_answer = extract_final_answer(model_full_solution)\n",
    "# offical_final_answer = extract_final_answer(rand_entry[\"solution\"])\n",
    "\n",
    "\n",
    "math_dataset_train = math_dataset[\"train\"]\n",
    "first_ten_train_dict = math_dataset_train.select(range(10))\n",
    "first_ten_train_set = [Example(dict(item) for item in first_ten_train_dict).with_inputs(\"problem\")]\n",
    "\n",
    "\n",
    "\n",
    "def gsm8k_metric(gold, pred, trace=None) -> int:\n",
    "    return int(parse_integer_answer(str(gold.answer))) == int(parse_integer_answer(str(pred.answer)))\n",
    "\n",
    "\n",
    "\n",
    "turbo = dspy.OpenAI(model='gpt-3.5-turbo-instruct', max_tokens=500)\n",
    "dspy.settings.configure(lm=turbo)\n",
    "\n",
    "cot_prompt = dspy.ChainOfThought(\"problem -> solution\")\n",
    "\n",
    "\n",
    "# Set up the optimizer: we want to \"bootstrap\" (i.e., self-generate) 4-shot examples of our CoT program.\n",
    "config = dict(max_bootstrapped_demos=4, max_labeled_demos=4)\n",
    "\n",
    "# Optimize! Use the `gsm8k_metric` here. In general, the metric is going to tell the optimizer how well it's doing.\n",
    "teleprompter = BootstrapFewShot(metric=simple_accuracy, **config)\n",
    "\n",
    "optimized_cot = teleprompter.compile(cot_prompt, trainset=first_ten_train_set)"
   ]
  },
  {
   "cell_type": "code",
   "execution_count": 43,
   "metadata": {},
   "outputs": [
    {
     "name": "stderr",
     "output_type": "stream",
     "text": [
      "100%|██████████| 7473/7473 [00:00<00:00, 59874.45it/s]\n",
      "100%|██████████| 1319/1319 [00:00<00:00, 73872.17it/s]\n"
     ]
    }
   ],
   "source": [
    "from dspy.datasets.gsm8k import GSM8K, gsm8k_metric\n",
    "\n",
    "gsm8k = GSM8K()\n",
    "gsm8k_trainset, gsm8k_devset = gsm8k.train[:10], gsm8k.dev[:10]"
   ]
  },
  {
   "cell_type": "code",
   "execution_count": 54,
   "metadata": {},
   "outputs": [
    {
     "data": {
      "text/plain": [
       "[Example({'question': \"The result from the 40-item Statistics exam Marion and Ella took already came out. Ella got 4 incorrect answers while Marion got 6 more than half the score of Ella. What is Marion's score?\", 'gold_reasoning': \"Ella's score is 40 items - 4 items = <<40-4=36>>36 items. Half of Ella's score is 36 items / 2 = <<36/2=18>>18 items. So, Marion's score is 18 items + 6 items = <<18+6=24>>24 items.\", 'answer': '24'}) (input_keys={'question'}),\n",
       " Example({'question': \"Stephen made 10 round trips up and down a 40,000 foot tall mountain. If he reached 3/4 of the mountain's height on each of his trips, calculate the total distance he covered.\", 'gold_reasoning': 'Up a mountain, Stephen covered 3/4*40000 = <<3/4*40000=30000>>30000 feet. Coming down, Stephen covered another 30000 feet, making the total distance covered in one round to be 30000+30000 = <<30000+30000=60000>>60000. Since Stephen made 10 round trips up and down the mountain, he covered 10*60000 = <<10*60000=600000>>600000', 'answer': '600000'}) (input_keys={'question'}),\n",
       " Example({'question': 'Bridget counted 14 shooting stars in the night sky.  Reginald counted two fewer shooting stars than did Bridget, but Sam counted four more shooting stars than did Reginald.  How many more shooting stars did Sam count in the night sky than was the average number of shooting stars observed for the three of them?', 'gold_reasoning': 'Reginald counted two fewer shooting stars than did Bridget, or a total of 14-2=<<14-2=12>>12 shooting stars. Sam counted 4 more shooting stars than did Reginald, or a total of 12+4=16 shooting stars. The average number of shooting stars observed for the three of them was (14+12+16)/3 = <<14=14>>14 shooting stars. Thus, Sam counted 16-14=2 more shooting stars than was the average number of shooting stars observed for the three of them.', 'answer': '2'}) (input_keys={'question'}),\n",
       " Example({'question': 'Sarah buys 20 pencils on Monday. Then she buys 18 more pencils on Tuesday. On Wednesday she buys triple the number of pencils she did on Tuesday. How many pencils does she have?', 'gold_reasoning': 'By adding together Monday and Tuesday, Saah has 20+18= <<20+18=38>>38 pencils On Wednesday, she buys 3 * 18= <<3*18=54>>54 pencils All together, Sarah has 38+54= <<38+54=92>>92 pencils', 'answer': '92'}) (input_keys={'question'}),\n",
       " Example({'question': 'Rookie police officers have to buy duty shoes at the full price of $85, but officers who have served at least a year get a 20% discount. Officers who have served at least three years get an additional 25% off the discounted price. How much does an officer who has served at least three years have to pay for shoes?', 'gold_reasoning': 'Cops that served a year pay $85 * 0.2 = $<<85*0.2=17>>17 less. Cops that served a year pay $85 - $17 = $<<85-17=68>>68. Cops that served at least 3 years get a $68 * 0.25 = $<<68*0.25=17>>17 discount. Cops that served at least 3 years pay $68 - $17 = $<<68-17=51>>51 for shoes.', 'answer': '51'}) (input_keys={'question'}),\n",
       " Example({'question': \"The average score on last week's Spanish test was 90.  Marco scored 10% less than the average test score and Margaret received 5 more points than Marco.  What score did Margaret receive on her test?\", 'gold_reasoning': 'The average test score was 90 and Marco scored 10% less so 90*.10 = <<90*.10=9>>9 points lower The average test score was 90 and Marco scored 9 points less so his test score was 90-9 = <<90-9=81>>81 Margret received 5 more points than Marco whose test score was 81 so she made 5+81 = <<5+81=86>>86 on her test', 'answer': '86'}) (input_keys={'question'}),\n",
       " Example({'question': 'A third of the contestants at a singing competition are female, and the rest are male. If there are 18 contestants in total, how many of them are male?', 'gold_reasoning': 'There are 18/3 = <<18/3=6>>6 female contestants. There are 18-6 = <<18-6=12>>12 male contestants.', 'answer': '12'}) (input_keys={'question'}),\n",
       " Example({'question': 'Nancy bought a pie sliced it into 8 pieces. She gave 1/2 to Joe and Darcy, and she gave 1/4 to Carl. How many slices were left?', 'gold_reasoning': 'The total number of slices she gave to Joe and Darcy is 1/2 x 8 = <<1/2*8=4>>4. The total slice she gave to Carl is 1/4 x 8 = <<1/4*8=2>>2. Therefore, the total slices left is 8 - 4 - 2 = <<8-4-2=2>>2.', 'answer': '2'}) (input_keys={'question'}),\n",
       " Example({'question': 'Megan pays $16 for a shirt that costs $22 before sales. What is the amount of the discount?', 'gold_reasoning': 'Let x be the amount of the discount. We have, 22 - x = $16 We change the writing of the equation: 22 - x + x = 16 + x So, 22 = 16 + x We then Remove 16 from both sides: 22 - 16 = 16 + x - 16 So, 22 - 16 = x So, the amount of the discount is x = $<<6=6>>6.', 'answer': '6'}) (input_keys={'question'}),\n",
       " Example({'question': \"Amaya scored 20 marks fewer in Maths than she scored in Arts. She also got 10 marks more in Social Studies than she got in Music. If she scored 70 in Music and scored 1/10 less in Maths, what's the total number of marks she scored in all the subjects?\", 'gold_reasoning': 'The total marks Amaya scored more in Music than in Maths is 1/10 * 70 = <<1/10*70=7>>7 marks. So the total marks she scored in Maths is 70 - 7 = <<70-7=63>>63 marks. If she scored 20 marks fewer in Maths than in Arts, then he scored 63 + 20 = <<63+20=83>>83 in Arts. If she scored 10 marks more in Social Studies than in Music, then she scored 70 + 10 = <<10+70=80>>80 marks in Social Studies. The total number of marks for all the subjects is 70 + 63 + 83 + 80 = <<70+63+83+80=296>>296 marks.', 'answer': '296'}) (input_keys={'question'})]"
      ]
     },
     "execution_count": 54,
     "metadata": {},
     "output_type": "execute_result"
    }
   ],
   "source": [
    "gsm8k_trainset"
   ]
  },
  {
   "cell_type": "code",
   "execution_count": 52,
   "metadata": {},
   "outputs": [
    {
     "data": {
      "text/plain": [
       "[{'problem': 'Let \\\\[f(x) = \\\\left\\\\{\\n\\\\begin{array}{cl} ax+3, &\\\\text{ if }x>2, \\\\\\\\\\nx-5 &\\\\text{ if } -2 \\\\le x \\\\le 2, \\\\\\\\\\n2x-b &\\\\text{ if } x <-2.\\n\\\\end{array}\\n\\\\right.\\\\]Find $a+b$ if the piecewise function is continuous (which means that its graph can be drawn without lifting your pencil from the paper).',\n",
       "  'level': 'Level 5',\n",
       "  'type': 'Algebra',\n",
       "  'solution': 'For the piecewise function to be continuous, the cases must \"meet\" at $2$ and $-2$. For example, $ax+3$ and $x-5$ must be equal when $x=2$. This implies $a(2)+3=2-5$, which we solve to get $2a=-6 \\\\Rightarrow a=-3$. Similarly, $x-5$ and $2x-b$ must be equal when $x=-2$. Substituting, we get $-2-5=2(-2)-b$, which implies $b=3$. So $a+b=-3+3=\\\\boxed{0}$.'},\n",
       " {'problem': 'A rectangular band formation is a formation with $m$ band members in each of $r$ rows, where $m$ and $r$ are integers. A particular band has less than 100 band members. The director arranges them in a rectangular formation and finds that he has two members left over. If he increases the number of members in each row by 1 and reduces the number of rows by 2, there are exactly enough places in the new formation for each band member. What is the largest number of members the band could have?',\n",
       "  'level': 'Level 5',\n",
       "  'type': 'Algebra',\n",
       "  'solution': 'Let $x$ be the number of band members in each row for the original formation, when two are left over.  Then we can write two equations from the given information: $$rx+2=m$$ $$(r-2)(x+1)=m$$ Setting these equal, we find: $$rx+2=(r-2)(x+1)=rx-2x+r-2$$ $$2=-2x+r-2$$ $$4=r-2x$$ We know that the band has less than 100 members.  Based on the first equation, we must have $rx$ less than 98.  We can guess and check some values of $r$ and $x$ in the last equation.  If $r=18$, then $x=7$, and $rx=126$ which is too big.  If $r=16$, then $x=6$, and $rx=96$, which is less than 98.  Checking back in the second formation, we see that $(16-2)(6+1)=14\\\\cdot 7=98$ as it should.  This is the best we can do, so the largest number of members the band could have is $\\\\boxed{98}$.'},\n",
       " {'problem': 'What is the degree of the polynomial $(4 +5x^3 +100 +2\\\\pi x^4 + \\\\sqrt{10}x^4 +9)$?',\n",
       "  'level': 'Level 3',\n",
       "  'type': 'Algebra',\n",
       "  'solution': \"This polynomial is not written in standard form.  However, we don't need to write it in standard form, nor do we need to pay attention to the coefficients.  We just look for the exponents on $x$.  We have an $x^4$ term and no other term of higher degree, so $\\\\boxed{4}$ is the degree of the polynomial.\"},\n",
       " {'problem': 'Evaluate $\\\\left\\\\lceil3\\\\left(6-\\\\frac12\\\\right)\\\\right\\\\rceil$.',\n",
       "  'level': 'Level 3',\n",
       "  'type': 'Algebra',\n",
       "  'solution': 'Firstly, $3\\\\left(6-\\\\frac12\\\\right)=18-1-\\\\frac12=17-\\\\frac12$.  Because $0\\\\le\\\\frac12<1$, we have $\\\\left\\\\lceil17-\\\\frac12\\\\right\\\\rceil=\\\\boxed{17}$.'},\n",
       " {'problem': 'Sam is hired for a 20-day period. On days that he works, he earns $\\\\$$60. For each day that he does not work, $\\\\$$30 is subtracted from his earnings. At the end of the 20-day period, he received $\\\\$$660. How many days did he not work?',\n",
       "  'level': 'Level 3',\n",
       "  'type': 'Algebra',\n",
       "  'solution': 'Call $x$ the number of days Sam works and $y$ the number of days he does not. We can set up the following system of equations to represent the given information: \\\\begin{align*}\\nx+y &= 20 \\\\\\\\\\n60x - 30y &= 660 \\\\\\\\\\n\\\\end{align*} The first equation represents the total number of days Sam works, and the second equation represents his total profit. Solving for $x$ in the first equation yields $x = 20 - y$. Substituting into the second equation gives $60(20-y) - 30y = 660$. Canceling a factor of $10$ and multiplying out gives $120 - 6y - 3y = 66$. This simplifies to $-9y = -54$, or $y = 6$. Thus, Sam did not work for $\\\\boxed{6}$ days.'},\n",
       " {'problem': 'Find the center of the circle with equation $x^2 - 6x + y^2 + 2y = 9$.',\n",
       "  'level': 'Level 4',\n",
       "  'type': 'Algebra',\n",
       "  'solution': 'Completing the square, we get $(x - 3)^2 + (y + 1)^2 = 19$. Therefore, the center of the circle is $\\\\boxed{(3, -1)}$.'},\n",
       " {'problem': 'What are all values of $p$ such that for every $q>0$, we have   $$\\\\frac{3(pq^2+p^2q+3q^2+3pq)}{p+q}>2p^2q?$$ Express your answer in interval notation in decimal form.',\n",
       "  'level': 'Level 5',\n",
       "  'type': 'Algebra',\n",
       "  'solution': \"First we'll simplify that complicated expression. We attempt to factor the numerator of the left side: \\\\begin{align*}\\npq^2+p^2q+3q^2+3pq &= q(pq + p^2 + 3q + 3p) \\\\\\\\\\n&= q[ p(q+p) + 3(q+p) ] \\\\\\\\\\n&= q(p+3)(q+p).\\n\\\\end{align*}Substituting this in for the numerator in our inequality gives $$\\\\frac{3q(p+3)(p+q)}{p+q}>2p^2q.$$We note that left hand side has $p+q$ in both the numerator and denominator.  We can only cancel these terms if $p+q \\\\neq 0.$  Since we're looking for values of $p$ such that the inequality is true for all $q > 0,$ we need $p \\\\geq 0$ so that $p + q \\\\neq 0.$\\n\\nAlso because this must be true for every $q>0$, we can cancel the $q$'s on both sides. This gives  \\\\begin{align*}\\n3(p+3)&>2p^2\\\\Rightarrow\\\\\\\\\\n3p+9&>2p^2 \\\\Rightarrow\\\\\\\\\\n0&>2p^2-3p-9.\\n\\\\end{align*}Now we must solve this quadratic inequality. We can factor the quadratic as $2p^2-3p-9=(2p+3)(p-3)$. The roots are $p=3$ and $p=-1.5$. Since a graph of this parabola would open upwards, we know that the value of $2p^2 - 3p - 9$ is negative between the roots, so the solution to our inequality is $-1.5<p<3.$  But we still need $0 \\\\leq p,$ so in interval notation the answer is $\\\\boxed{[0,3)}$.\"},\n",
       " {'problem': 'If $x = 2$ and $y = 5$, then what is the value of $\\\\frac{x^4+2y^2}{6}$ ?',\n",
       "  'level': 'Level 1',\n",
       "  'type': 'Algebra',\n",
       "  'solution': 'We have  \\\\[\\\\frac{x^4 + 2y^2}{6} = \\\\frac{2^4 + 2(5^2)}{6} = \\\\frac{16+2(25)}{6} = \\\\frac{16+50}{6} = \\\\frac{66}{6} = \\\\boxed{11}.\\\\]'},\n",
       " {'problem': 'The sequence of integers in the row of squares and in each of the two columns of squares form three distinct arithmetic sequences. What is the value of $N$?\\n\\n[asy]\\nunitsize(0.35inch);\\ndraw((0,0)--(7,0)--(7,1)--(0,1)--cycle);\\ndraw((1,0)--(1,1));\\ndraw((2,0)--(2,1));\\ndraw((3,0)--(3,1));\\ndraw((4,0)--(4,1));\\ndraw((5,0)--(5,1));\\ndraw((6,0)--(6,1));\\ndraw((6,2)--(7,2)--(7,-4)--(6,-4)--cycle);\\ndraw((6,-1)--(7,-1));\\ndraw((6,-2)--(7,-2));\\ndraw((6,-3)--(7,-3));\\ndraw((3,0)--(4,0)--(4,-3)--(3,-3)--cycle);\\ndraw((3,-1)--(4,-1));\\ndraw((3,-2)--(4,-2));\\nlabel(\"21\",(0.5,0.8),S);\\nlabel(\"14\",(3.5,-1.2),S);\\nlabel(\"18\",(3.5,-2.2),S);\\nlabel(\"$N$\",(6.5,1.8),S);\\nlabel(\"-17\",(6.5,-3.2),S);\\n[/asy]',\n",
       "  'level': 'Level 2',\n",
       "  'type': 'Algebra',\n",
       "  'solution': 'Since $18 - 14 = 4$, the common difference in the first column of squares is 4, so the number above 14 is $14 - 4 = 10$, and the number above 10 is $10 - 4 = 6$.  This is also the fourth number in the row, so the common difference in the row is $(6 - 21)/3 = -5$.\\n\\nThen the seventh (and last) number in the row is $21 - 5 \\\\cdot 6 = -9$.  In the second column, the common difference is $[(-17) - (-9)]/4 = -2$, so $N = -9 - (-2) = \\\\boxed{-7}$.'},\n",
       " {'problem': 'Tim wants to invest some money in a bank which compounds quarterly with an annual interest rate of $7\\\\%$. To the nearest dollar, how much money should he invest if he wants a total of $\\\\$60,\\\\!000$ at the end of $5$ years?',\n",
       "  'level': 'Level 5',\n",
       "  'type': 'Algebra',\n",
       "  'solution': 'Recall the formula $A=P\\\\left(1+\\\\frac{r}{n}\\\\right)^{nt}$, where $A$ is the end balance, $P$ is the principal, $r$ is the interest rate, $t$ is the number of years, and $n$ is the number of times the interest is compounded in a year. This formula represents the idea that the interest is compounded every $1/n$ years with the rate of $r/n$.\\n\\nSubstituting the given information, we have \\\\[60,\\\\!000=P\\\\left(1+\\\\frac{0.07}{4}\\\\right)^{4 \\\\cdot 5}.\\\\]Solving for $P$ gives  $P=42409.474...$, which rounded to the nearest dollar is $\\\\boxed{\\\\$42409}$.'}]"
      ]
     },
     "execution_count": 52,
     "metadata": {},
     "output_type": "execute_result"
    }
   ],
   "source": [
    "first_ten_train_dict = math_dataset_train.select(range(10))\n",
    "first_ten_train_set = [dict(item) for item in first_ten_train_dict].with_inputs(\"problem\")"
   ]
  }
 ],
 "metadata": {
  "kernelspec": {
   "display_name": "step_back_venv",
   "language": "python",
   "name": "python3"
  },
  "language_info": {
   "codemirror_mode": {
    "name": "ipython",
    "version": 3
   },
   "file_extension": ".py",
   "mimetype": "text/x-python",
   "name": "python",
   "nbconvert_exporter": "python",
   "pygments_lexer": "ipython3",
   "version": "3.11.0"
  }
 },
 "nbformat": 4,
 "nbformat_minor": 2
}
